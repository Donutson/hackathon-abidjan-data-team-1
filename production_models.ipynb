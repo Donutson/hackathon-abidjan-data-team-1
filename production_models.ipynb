{
 "cells": [
  {
   "cell_type": "markdown",
   "metadata": {
    "colab_type": "text",
    "id": "view-in-github"
   },
   "source": [
    "<a href=\"https://colab.research.google.com/github/Donutson/hackathon-abidjan-data-team-1/blob/main/Conseil_client.ipynb\" target=\"_parent\"><img src=\"https://colab.research.google.com/assets/colab-badge.svg\" alt=\"Open In Colab\"/></a>"
   ]
  },
  {
   "cell_type": "markdown",
   "metadata": {
    "id": "a38-L4ijVSXc"
   },
   "source": [
    "# BeOpenIT Hackathon-Data-IA-ML Team Machine Learnia\n",
    "Construction des modèles pour la mise en production des 2 derniers buts"
   ]
  },
  {
   "cell_type": "markdown",
   "metadata": {
    "id": "7GDPc9aIbvcO"
   },
   "source": [
    "## Data loading and cleaning"
   ]
  },
  {
   "cell_type": "markdown",
   "metadata": {},
   "source": [
    "### Loading"
   ]
  },
  {
   "cell_type": "code",
   "execution_count": 1,
   "metadata": {
    "id": "pt_i1_x8M-FY"
   },
   "outputs": [
    {
     "name": "stdout",
     "output_type": "stream",
     "text": [
      "Import done\n"
     ]
    }
   ],
   "source": [
    "# import\n",
    "import seaborn as sn\n",
    "import matplotlib.pyplot as plt\n",
    "import pandas as pd\n",
    "import numpy as np\n",
    "print(\"Import done\")"
   ]
  },
  {
   "cell_type": "code",
   "execution_count": 2,
   "metadata": {
    "colab": {
     "base_uri": "https://localhost:8080/",
     "height": 1000
    },
    "id": "bZWzXtDPM-Fb",
    "outputId": "025b248b-3ecc-49c9-ccbd-a948260a7b76",
    "scrolled": true
   },
   "outputs": [
    {
     "name": "stdout",
     "output_type": "stream",
     "text": [
      "dataset build\n"
     ]
    }
   ],
   "source": [
    "# loading \n",
    "climate = pd.read_csv(\"climate.csv\", parse_dates=[\"DATE\"])\n",
    "airport = pd.read_csv(\"AIRPORT_ONTIME_REPORTING.csv\", parse_dates=[\"FL_DATE\"])\n",
    "airport_climate = pd.merge(airport, climate, right_on=\"DATE\", left_on=\"FL_DATE\")\n",
    "\n",
    "# only chicago\n",
    "dataset = airport_climate[airport_climate['ORIGIN_CITY_NAME'].str.contains(\"Chicago\") | airport_climate['DEST_CITY_NAME'].str.contains(\"Chicago\") ].copy()\n",
    "print(\"dataset build\")"
   ]
  },
  {
   "cell_type": "code",
   "execution_count": 3,
   "metadata": {
    "id": "20ttjyaVM-Fe"
   },
   "outputs": [
    {
     "name": "stdout",
     "output_type": "stream",
     "text": [
      "unuseful features has been drop\n"
     ]
    }
   ],
   "source": [
    "#Suppression des variables derivées et non contextuelles après analyse (correlation, logique,....)\n",
    "dataset.drop(['ORIGIN_STATE_NM', 'ORIGIN_WAC','DEST', 'DEST_STATE_NM', 'DEST_WAC', 'NAS_DELAY','SECURITY_DELAY', 'LATE_AIRCRAFT_DELAY', 'DIVERTED', 'YEAR', 'TAXI_OUT', 'ARR_DELAY_GROUP','ARR_TIME_BLK',  'DISTANCE_GROUP', 'CARRIER_DELAY',], axis='columns', inplace=True)\n",
    "dataset.drop(['TAVG', 'ORIGIN_CITY_NAME','DEST_CITY_NAME', 'DEP_DELAY_GROUP', 'DEP_TIME_BLK',  'CRS_ELAPSED_TIME', 'ACTUAL_ELAPSED_TIME','TMIN','STATION','NAME','LATITUDE','LONGITUDE','ELEVATION', 'DATE', 'QUARTER', 'MONTH', 'DAY_OF_MONTH', 'FL_DATE', 'TAIL_NUM', 'ORIGIN_AIRPORT_ID',  'DEST_AIRPORT_ID', 'ORIGIN'], axis='columns', inplace=True)\n",
    "dataset.drop(['ARR_DELAY', 'DEP_DELAY'], axis='columns', inplace=True)\n",
    "dataset.drop(['OP_CARRIER_FL_NUM','TAXI_IN','Unnamed: 49','ORIGIN_STATE_ABR','DEST_STATE_ABR','DEST_AIRPORT_SEQ_ID','DEST_CITY_MARKET_ID'], axis='columns', inplace=True)\n",
    "print(\"unuseful features has been drop\")"
   ]
  },
  {
   "cell_type": "markdown",
   "metadata": {
    "id": "_x9do87tdxHT"
   },
   "source": [
    "### Cleanning\n",
    "\n",
    "Imputation with median"
   ]
  },
  {
   "cell_type": "code",
   "execution_count": 4,
   "metadata": {
    "colab": {
     "base_uri": "https://localhost:8080/",
     "height": 439
    },
    "id": "tLtQBfMlM-Fj",
    "outputId": "dc2da7dc-c40f-4599-8126-0c2f5ab0f0f3"
   },
   "outputs": [
    {
     "name": "stdout",
     "output_type": "stream",
     "text": [
      "dataset has been cleaned\n"
     ]
    }
   ],
   "source": [
    "# Remplacer les NaN en utilisant la médiane\n",
    "median = dataset['AWND'].median()\n",
    "dataset['AWND'].fillna(median, inplace=True)\n",
    "\n",
    "median = dataset['PRCP'].median()\n",
    "dataset['PRCP'].fillna(median, inplace=True)\n",
    "\n",
    "median = dataset['SNOW'].median()\n",
    "dataset['SNOW'].fillna(median, inplace=True)\n",
    "\n",
    "median = dataset['TMAX'].median()\n",
    "dataset['TMAX'].fillna(median, inplace=True)\n",
    "\n",
    "median = dataset['DEP_TIME'].median()\n",
    "dataset['DEP_TIME'].fillna(median, inplace=True)\n",
    "\n",
    "median = dataset['CRS_DEP_TIME'].median()\n",
    "dataset['CRS_DEP_TIME'].fillna(median, inplace=True)\n",
    "\n",
    "median = dataset['DEP_DEL15'].median()\n",
    "dataset['DEP_DEL15'].fillna(median, inplace=True)\n",
    "\n",
    "median = dataset['ARR_TIME'].median()\n",
    "dataset['ARR_TIME'].fillna(median, inplace=True)\n",
    "\n",
    "median = dataset['CRS_ARR_TIME'].median()\n",
    "dataset['CRS_ARR_TIME'].fillna(median, inplace=True)\n",
    "\n",
    "median = dataset['ARR_DEL15'].median()\n",
    "dataset['ARR_DEL15'].fillna(median, inplace=True)\n",
    "\n",
    "median = dataset['CANCELLED'].median()\n",
    "dataset['CANCELLED'].fillna(median, inplace=True)\n",
    "\n",
    "median = dataset['AIR_TIME'].median()\n",
    "dataset['AIR_TIME'].fillna(median, inplace=True)\n",
    "\n",
    "median = dataset['FLIGHTS'].median()\n",
    "dataset['FLIGHTS'].fillna(median, inplace=True)\n",
    "\n",
    "median = dataset['DISTANCE'].median()\n",
    "dataset['DISTANCE'].fillna(median, inplace=True)\n",
    "\n",
    "median = dataset['WEATHER_DELAY'].median()\n",
    "dataset['WEATHER_DELAY'].fillna(median, inplace=True)\n",
    "\n",
    "print(\"dataset has been cleaned\")"
   ]
  },
  {
   "cell_type": "markdown",
   "metadata": {},
   "source": [
    "## Modeling"
   ]
  },
  {
   "cell_type": "code",
   "execution_count": 5,
   "metadata": {
    "id": "ifbEcOOiM-Fs"
   },
   "outputs": [
    {
     "name": "stdout",
     "output_type": "stream",
     "text": [
      "All are imported\n"
     ]
    }
   ],
   "source": [
    "# model selection\n",
    "from sklearn.model_selection import GridSearchCV, cross_val_score\n",
    "from sklearn.model_selection import train_test_split\n",
    "\n",
    "# preprocessing\n",
    "from sklearn.preprocessing import StandardScaler\n",
    "\n",
    "# regressors\n",
    "from sklearn.linear_model import LinearRegression\n",
    "from sklearn.tree import DecisionTreeRegressor\n",
    "from sklearn.neighbors import KNeighborsRegressor\n",
    "from sklearn.ensemble import RandomForestRegressor\n",
    "import xgboost as xgb\n",
    "\n",
    "print('All are imported')"
   ]
  },
  {
   "cell_type": "markdown",
   "metadata": {
    "id": "iKugeZNOM-GL"
   },
   "source": [
    "### But 3: Predire le temps d'arrivée reelle\n",
    "\n"
   ]
  },
  {
   "cell_type": "code",
   "execution_count": 18,
   "metadata": {
    "colab": {
     "base_uri": "https://localhost:8080/",
     "height": 255
    },
    "id": "Vu8etJRDM-GL",
    "outputId": "871b11b8-7e98-44dd-eb1c-3d182e488b04"
   },
   "outputs": [
    {
     "data": {
      "text/plain": [
       "['DAY_OF_WEEK',\n",
       " 'CRS_DEP_TIME',\n",
       " 'DEP_TIME',\n",
       " 'DEP_DEL15',\n",
       " 'AIR_TIME',\n",
       " 'FLIGHTS',\n",
       " 'DISTANCE',\n",
       " 'WEATHER_DELAY',\n",
       " 'AWND',\n",
       " 'PRCP',\n",
       " 'SNOW',\n",
       " 'TMAX']"
      ]
     },
     "execution_count": 18,
     "metadata": {},
     "output_type": "execute_result"
    }
   ],
   "source": [
    "# target features\n",
    "y=dataset['ARR_TIME']\n",
    "X = dataset.loc[:, dataset.columns != 'ARR_TIME']\n",
    "X = X.loc[:, X.columns != 'CANCELLED']\n",
    "X = X.loc[:, X.columns != 'ARR_DEL15']\n",
    "X = X.loc[:, X.columns != 'CRS_ARR_TIME']\n",
    "\n",
    "# train test split\n",
    "X_train, X_test, y_train, y_test = train_test_split(X, y, test_size=0.3, random_state=42)\n",
    "\n",
    "# Standardization\n",
    "scaler = StandardScaler()\n",
    "X_train = scaler.fit_transform(X_train)\n",
    "X_test = scaler.transform(X_test)\n",
    "\n",
    "list(X)"
   ]
  },
  {
   "cell_type": "markdown",
   "metadata": {},
   "source": [
    "### Linear regression"
   ]
  },
  {
   "cell_type": "code",
   "execution_count": 7,
   "metadata": {
    "id": "fvn7CSfFM-GN"
   },
   "outputs": [
    {
     "name": "stdout",
     "output_type": "stream",
     "text": [
      "cv r2 score: 0.3880578546370755\n"
     ]
    }
   ],
   "source": [
    "model1 = LinearRegression()\n",
    "print(\"cv r2 score:\",np.mean(cross_val_score(model1, X, y, cv=10, scoring='r2')))"
   ]
  },
  {
   "cell_type": "markdown",
   "metadata": {},
   "source": [
    "### Decision tree"
   ]
  },
  {
   "cell_type": "code",
   "execution_count": 8,
   "metadata": {},
   "outputs": [
    {
     "name": "stdout",
     "output_type": "stream",
     "text": [
      "cv r2 score: 0.7736768388234233\n"
     ]
    }
   ],
   "source": [
    "params = {\"max_depth\": range(2,15)}\n",
    "model2 = GridSearchCV(estimator=DecisionTreeRegressor(), param_grid=params, scoring=\"r2\", cv=10)\n",
    "model2.fit(X, y)\n",
    "print(\"cv r2 score:\",model2.best_score_)"
   ]
  },
  {
   "cell_type": "markdown",
   "metadata": {},
   "source": [
    "### KNN"
   ]
  },
  {
   "cell_type": "code",
   "execution_count": 9,
   "metadata": {},
   "outputs": [
    {
     "name": "stdout",
     "output_type": "stream",
     "text": [
      "cv r2 score: 0.7736768388234233\n"
     ]
    }
   ],
   "source": [
    "params = {\"n_neighbors\": range(1,10), \"p\": range(1,3)}\n",
    "model3 = GridSearchCV(estimator=KNeighborsRegressor(), param_grid=params, scoring=\"r2\", cv=10)\n",
    "model3.fit(X, y)\n",
    "print(\"cv r2 score:\",model2.best_score_)"
   ]
  },
  {
   "cell_type": "markdown",
   "metadata": {},
   "source": [
    "### RF"
   ]
  },
  {
   "cell_type": "code",
   "execution_count": 10,
   "metadata": {},
   "outputs": [
    {
     "name": "stdout",
     "output_type": "stream",
     "text": [
      "cv r2 score: 0.7736768388234233\n"
     ]
    }
   ],
   "source": [
    "params = {\"n_estimators\": range(1,10), \"max_depth\": range(1,5)}\n",
    "model4 = GridSearchCV(estimator=RandomForestRegressor(), param_grid=params, scoring=\"r2\", cv=10)\n",
    "model4.fit(X, y)\n",
    "print(\"cv r2 score:\",model2.best_score_)"
   ]
  },
  {
   "cell_type": "code",
   "execution_count": 11,
   "metadata": {},
   "outputs": [
    {
     "data": {
      "text/plain": [
       "['goal3.model']"
      ]
     },
     "execution_count": 11,
     "metadata": {},
     "output_type": "execute_result"
    }
   ],
   "source": [
    "# best model save\n",
    "from joblib import dump\n",
    "dump(model2, \"goal3.model\")"
   ]
  },
  {
   "cell_type": "markdown",
   "metadata": {
    "id": "ptLRINymrU2D"
   },
   "source": [
    "### But 4 : Predire la date réelle de depart "
   ]
  },
  {
   "cell_type": "code",
   "execution_count": 25,
   "metadata": {
    "colab": {
     "base_uri": "https://localhost:8080/",
     "height": 187
    },
    "id": "8rY85YBRsPCb",
    "outputId": "b4b7343f-59b9-41bf-bf56-3de1169d08cb"
   },
   "outputs": [
    {
     "data": {
      "text/plain": [
       "['DAY_OF_WEEK',\n",
       " 'CRS_ARR_TIME',\n",
       " 'ARR_TIME',\n",
       " 'AIR_TIME',\n",
       " 'FLIGHTS',\n",
       " 'DISTANCE',\n",
       " 'WEATHER_DELAY',\n",
       " 'AWND',\n",
       " 'PRCP',\n",
       " 'SNOW',\n",
       " 'TMAX']"
      ]
     },
     "execution_count": 25,
     "metadata": {},
     "output_type": "execute_result"
    }
   ],
   "source": [
    "# target and featurees\n",
    "y=dataset['DEP_TIME']\n",
    "X = dataset.loc[:, dataset.columns != 'ARR_DEL15']\n",
    "X = X.loc[:, X.columns != 'CANCELLED']\n",
    "X = X.loc[:, X.columns != 'DEP_TIME']\n",
    "X = X.loc[:, X.columns != 'CRS_DEP_TIME']\n",
    "X = X.loc[:, X.columns != 'DEP_DEL15']\n",
    "\n",
    "# train test split\n",
    "X_train, X_test, y_train, y_test = train_test_split(X, y, test_size=0.3, random_state=42)\n",
    "\n",
    "# Standardization\n",
    "scaler = StandardScaler()\n",
    "X_train = scaler.fit_transform(X_train)\n",
    "X_test = scaler.transform(X_test)\n",
    "\n",
    "list(X)"
   ]
  },
  {
   "cell_type": "markdown",
   "metadata": {},
   "source": [
    "### Linear regression"
   ]
  },
  {
   "cell_type": "code",
   "execution_count": 13,
   "metadata": {
    "id": "XyTBVmGutTms"
   },
   "outputs": [
    {
     "name": "stdout",
     "output_type": "stream",
     "text": [
      "cv r2 score: 0.6001875676913626\n"
     ]
    }
   ],
   "source": [
    "model1 = LinearRegression()\n",
    "print(\"cv r2 score:\",np.mean(cross_val_score(model1, X, y, cv=10, scoring='r2')))"
   ]
  },
  {
   "cell_type": "markdown",
   "metadata": {
    "colab": {
     "base_uri": "https://localhost:8080/",
     "height": 34
    },
    "id": "e_m8d9OOtbXD",
    "outputId": "177d01b4-6370-4d9d-faae-111478a8e9a7"
   },
   "source": [
    "### Decision tree"
   ]
  },
  {
   "cell_type": "code",
   "execution_count": 14,
   "metadata": {},
   "outputs": [
    {
     "name": "stdout",
     "output_type": "stream",
     "text": [
      "cv r2 score: 0.9210604684526468\n"
     ]
    }
   ],
   "source": [
    "params = {\"max_depth\": range(2,15)}\n",
    "model2 = GridSearchCV(estimator=DecisionTreeRegressor(), param_grid=params, scoring=\"r2\", cv=10)\n",
    "model2.fit(X, y)\n",
    "print(\"cv r2 score:\",model2.best_score_)"
   ]
  },
  {
   "cell_type": "markdown",
   "metadata": {},
   "source": [
    "### KNN"
   ]
  },
  {
   "cell_type": "code",
   "execution_count": 15,
   "metadata": {},
   "outputs": [
    {
     "name": "stdout",
     "output_type": "stream",
     "text": [
      "cv r2 score: 0.9210604684526468\n"
     ]
    }
   ],
   "source": [
    "params = {\"n_neighbors\": range(1,10), \"p\": range(1,3)}\n",
    "model3 = GridSearchCV(estimator=KNeighborsRegressor(), param_grid=params, scoring=\"r2\", cv=10)\n",
    "model3.fit(X, y)\n",
    "print(\"cv r2 score:\",model2.best_score_)"
   ]
  },
  {
   "cell_type": "markdown",
   "metadata": {},
   "source": [
    "### RF"
   ]
  },
  {
   "cell_type": "code",
   "execution_count": 16,
   "metadata": {},
   "outputs": [
    {
     "name": "stdout",
     "output_type": "stream",
     "text": [
      "cv r2 score: 0.9210604684526468\n"
     ]
    }
   ],
   "source": [
    "params = {\"n_estimators\": range(1,10), \"max_depth\": range(1,5)}\n",
    "model4 = GridSearchCV(estimator=RandomForestRegressor(), param_grid=params, scoring=\"r2\", cv=10)\n",
    "model4.fit(X, y)\n",
    "print(\"cv r2 score:\",model2.best_score_)"
   ]
  },
  {
   "cell_type": "code",
   "execution_count": 17,
   "metadata": {},
   "outputs": [
    {
     "data": {
      "text/plain": [
       "['goal4.model']"
      ]
     },
     "execution_count": 17,
     "metadata": {},
     "output_type": "execute_result"
    }
   ],
   "source": [
    "dump(model2, \"goal4.model\")"
   ]
  },
  {
   "cell_type": "code",
   "execution_count": null,
   "metadata": {},
   "outputs": [],
   "source": []
  }
 ],
 "metadata": {
  "colab": {
   "collapsed_sections": [],
   "include_colab_link": true,
   "name": "Conseil_client.ipynb",
   "provenance": []
  },
  "kernelspec": {
   "display_name": "Python 3",
   "language": "python",
   "name": "python3"
  },
  "language_info": {
   "codemirror_mode": {
    "name": "ipython",
    "version": 3
   },
   "file_extension": ".py",
   "mimetype": "text/x-python",
   "name": "python",
   "nbconvert_exporter": "python",
   "pygments_lexer": "ipython3",
   "version": "3.7.6"
  }
 },
 "nbformat": 4,
 "nbformat_minor": 1
}
