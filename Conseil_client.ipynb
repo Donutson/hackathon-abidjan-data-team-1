{
  "nbformat": 4,
  "nbformat_minor": 0,
  "metadata": {
    "kernelspec": {
      "display_name": "Python 3",
      "language": "python",
      "name": "python3"
    },
    "language_info": {
      "codemirror_mode": {
        "name": "ipython",
        "version": 3
      },
      "file_extension": ".py",
      "mimetype": "text/x-python",
      "name": "python",
      "nbconvert_exporter": "python",
      "pygments_lexer": "ipython3",
      "version": "3.7.7"
    },
    "colab": {
      "name": "Conseil_client.ipynb",
      "provenance": [],
      "collapsed_sections": [],
      "include_colab_link": true
    }
  },
  "cells": [
    {
      "cell_type": "markdown",
      "metadata": {
        "id": "view-in-github",
        "colab_type": "text"
      },
      "source": [
        "<a href=\"https://colab.research.google.com/github/Donutson/hackathon-abidjan-data-team-1/blob/main/Conseil_client.ipynb\" target=\"_parent\"><img src=\"https://colab.research.google.com/assets/colab-badge.svg\" alt=\"Open In Colab\"/></a>"
      ]
    },
    {
      "cell_type": "markdown",
      "metadata": {
        "id": "a38-L4ijVSXc"
      },
      "source": [
        "# BeOpenIT Hackathon-Data-IA-ML Team Machine Learnia\n",
        "\n",
        "#### Les voyages en avion peuvent être stressants en raison de nombreux facteurs qui échappent tout simplement au contrôle des passagers. En tant que passagers, nous voulons miniser ce stress autant que possible. <br>Pour ce faire, nous pouvons utiliser des données antérieures de météo et de l'aeroport de Chicago. \n",
        "\n",
        "\n",
        "1.   Predire si le vol arrivera en retard de 15 min où non\n",
        "2.   Predire si un vol sera annulé ou non\n",
        "3.   Predire le temps d'arrivée reelle\n",
        "4.   Predire la date réelle de depart \n",
        "\n",
        "### Les données ont été collectées à\n",
        "\n",
        "1.   http://www.transtats.bts.gov/DL_SelectFields.asp?Table_ID=236\n",
        "2.   https://www.ncdc.noaa.gov/cdo-web/datasets\n",
        "\n",
        "\n",
        "\n",
        "\n",
        "\n"
      ]
    },
    {
      "cell_type": "markdown",
      "metadata": {
        "id": "7GDPc9aIbvcO"
      },
      "source": [
        "## Récupération et traitement des données"
      ]
    },
    {
      "cell_type": "code",
      "metadata": {
        "id": "pt_i1_x8M-FY"
      },
      "source": [
        "  #librairie utile\n",
        "import seaborn as sn\n",
        "import matplotlib.pyplot as plt\n",
        "import pandas as pd\n",
        "from sklearn.model_selection import train_test_split\n",
        "import numpy as np\n",
        "from sklearn.linear_model import LinearRegression"
      ],
      "execution_count": null,
      "outputs": []
    },
    {
      "cell_type": "code",
      "metadata": {
        "id": "6eFnb-JK74-8",
        "outputId": "196eea90-73f0-4e21-876c-80820f58c185",
        "colab": {
          "base_uri": "https://localhost:8080/",
          "height": 34
        }
      },
      "source": [
        "#Acceder à mon dossier sur drive \n",
        "from google.colab import drive\n",
        "drive.mount('/content/drive')"
      ],
      "execution_count": null,
      "outputs": [
        {
          "output_type": "stream",
          "text": [
            "Mounted at /content/drive\n"
          ],
          "name": "stdout"
        }
      ]
    },
    {
      "cell_type": "code",
      "metadata": {
        "scrolled": true,
        "id": "bZWzXtDPM-Fb",
        "outputId": "025b248b-3ecc-49c9-ccbd-a948260a7b76",
        "colab": {
          "base_uri": "https://localhost:8080/",
          "height": 1000
        }
      },
      "source": [
        "#Inserer les donnees telecharges \n",
        "airport = pd.read_csv(\"/content/drive/My Drive/Colab Notebooks/donnees1.csv\")\n",
        "climate = pd.read_csv(\"/content/drive/My Drive/Colab Notebooks/donnees2.csv\")\n",
        "#Effectuer la fuision entre les données \n",
        "climate = pd.read_csv(\"/content/drive/My Drive/Colab Notebooks/donnees2.csv\", parse_dates=[\"DATE\"])\n",
        "airport = pd.read_csv(\"/content/drive/My Drive/Colab Notebooks/donnees1.csv\", parse_dates=[\"FL_DATE\"])\n",
        "airport_climate = pd.merge(airport, climate, right_on=\"DATE\", left_on=\"FL_DATE\")\n",
        "#Restreient les donnees aux villes dont le depart ou l'arrivee est Chicago \n",
        "airport_chicago = airport_climate[airport_climate['ORIGIN_CITY_NAME'].str.contains(\"Chicago\") | airport_climate['DEST_CITY_NAME'].str.contains(\"Chicago\") ].copy()\n",
        "#Creation du dataset\n",
        "dataset= airport_chicago\n",
        "list(dataset)"
      ],
      "execution_count": null,
      "outputs": [
        {
          "output_type": "execute_result",
          "data": {
            "text/plain": [
              "['YEAR',\n",
              " 'QUARTER',\n",
              " 'MONTH',\n",
              " 'DAY_OF_MONTH',\n",
              " 'DAY_OF_WEEK',\n",
              " 'FL_DATE',\n",
              " 'TAIL_NUM',\n",
              " 'ORIGIN_AIRPORT_ID',\n",
              " 'ORIGIN_AIRPORT_SEQ_ID',\n",
              " 'ORIGIN_CITY_MARKET_ID',\n",
              " 'ORIGIN',\n",
              " 'ORIGIN_CITY_NAME',\n",
              " 'ORIGIN_STATE_NM',\n",
              " 'ORIGIN_WAC',\n",
              " 'DEST_AIRPORT_ID',\n",
              " 'DEST_AIRPORT_SEQ_ID',\n",
              " 'DEST_CITY_MARKET_ID',\n",
              " 'DEST',\n",
              " 'DEST_CITY_NAME',\n",
              " 'DEST_STATE_NM',\n",
              " 'DEST_WAC',\n",
              " 'CRS_DEP_TIME',\n",
              " 'DEP_TIME',\n",
              " 'DEP_DELAY',\n",
              " 'DEP_DEL15',\n",
              " 'DEP_DELAY_GROUP',\n",
              " 'DEP_TIME_BLK',\n",
              " 'TAXI_OUT',\n",
              " 'CRS_ARR_TIME',\n",
              " 'ARR_TIME',\n",
              " 'ARR_DELAY',\n",
              " 'ARR_DEL15',\n",
              " 'ARR_DELAY_GROUP',\n",
              " 'ARR_TIME_BLK',\n",
              " 'CANCELLED',\n",
              " 'DIVERTED',\n",
              " 'CRS_ELAPSED_TIME',\n",
              " 'ACTUAL_ELAPSED_TIME',\n",
              " 'AIR_TIME',\n",
              " 'FLIGHTS',\n",
              " 'DISTANCE',\n",
              " 'DISTANCE_GROUP',\n",
              " 'CARRIER_DELAY',\n",
              " 'WEATHER_DELAY',\n",
              " 'NAS_DELAY',\n",
              " 'SECURITY_DELAY',\n",
              " 'LATE_AIRCRAFT_DELAY',\n",
              " 'Unnamed: 47',\n",
              " 'STATION',\n",
              " 'NAME',\n",
              " 'LATITUDE',\n",
              " 'LONGITUDE',\n",
              " 'ELEVATION',\n",
              " 'DATE',\n",
              " 'AWND',\n",
              " 'PRCP',\n",
              " 'SNOW',\n",
              " 'TAVG',\n",
              " 'TMAX',\n",
              " 'TMIN']"
            ]
          },
          "metadata": {
            "tags": []
          },
          "execution_count": 4
        }
      ]
    },
    {
      "cell_type": "code",
      "metadata": {
        "id": "20ttjyaVM-Fe"
      },
      "source": [
        "#Suppression des variables derivées et non contextuelles après analyse (correlation, logique,....)\n",
        "dataset.drop(['ORIGIN_STATE_NM', 'ORIGIN_WAC','DEST', 'DEST_STATE_NM', 'DEST_WAC', 'NAS_DELAY','SECURITY_DELAY', 'LATE_AIRCRAFT_DELAY', 'DIVERTED', 'YEAR', 'TAXI_OUT', 'ARR_DELAY_GROUP','ARR_TIME_BLK',  'DISTANCE_GROUP', 'CARRIER_DELAY',], axis='columns', inplace=True)\n",
        "dataset.drop(['TAVG', 'ORIGIN_CITY_NAME','DEST_CITY_NAME', 'DEP_DELAY_GROUP', 'DEP_TIME_BLK',  'CRS_ELAPSED_TIME', 'ACTUAL_ELAPSED_TIME','TMIN','STATION','NAME','LATITUDE','LONGITUDE','ELEVATION', 'DATE', 'QUARTER', 'MONTH', 'DAY_OF_MONTH', 'FL_DATE', 'TAIL_NUM', 'ORIGIN_AIRPORT_ID',  'DEST_AIRPORT_ID', 'ORIGIN'], axis='columns', inplace=True)\n",
        "dataset.drop(['ARR_DELAY', 'DEP_DELAY'], axis='columns', inplace=True)\n",
        "dataset.drop(['Unnamed: 47','ORIGIN_AIRPORT_SEQ_ID','ORIGIN_CITY_MARKET_ID','DEST_AIRPORT_SEQ_ID','DEST_CITY_MARKET_ID'], axis='columns', inplace=True)"
      ],
      "execution_count": null,
      "outputs": []
    },
    {
      "cell_type": "markdown",
      "metadata": {
        "id": "crxqXYAadFTP"
      },
      "source": [
        "## Liste des variables retenues pour l'étude\n",
        "\n",
        "### Après analyse des vrariables, voici les variables retenues"
      ]
    },
    {
      "cell_type": "code",
      "metadata": {
        "id": "3AJaihuxM-Fg",
        "outputId": "179fd6a0-d8cc-4a3a-92d9-520a49249ae6",
        "colab": {
          "base_uri": "https://localhost:8080/",
          "height": 289
        }
      },
      "source": [
        "#Liste des variables retenues\n",
        "list(dataset)\n",
        "#[i for i in dataset[\"SNOW\"] ]\n",
        "#import matplotlib.pyplot as plt\n",
        "#plt.scatter(dataset[\"CRS_ARR_TIME\"], dataset[\"ARR_TIME\"])"
      ],
      "execution_count": null,
      "outputs": [
        {
          "output_type": "execute_result",
          "data": {
            "text/plain": [
              "['DAY_OF_WEEK',\n",
              " 'CRS_DEP_TIME',\n",
              " 'DEP_TIME',\n",
              " 'DEP_DEL15',\n",
              " 'CRS_ARR_TIME',\n",
              " 'ARR_TIME',\n",
              " 'ARR_DEL15',\n",
              " 'CANCELLED',\n",
              " 'AIR_TIME',\n",
              " 'FLIGHTS',\n",
              " 'DISTANCE',\n",
              " 'WEATHER_DELAY',\n",
              " 'AWND',\n",
              " 'PRCP',\n",
              " 'SNOW',\n",
              " 'TMAX']"
            ]
          },
          "metadata": {
            "tags": []
          },
          "execution_count": 9
        }
      ]
    },
    {
      "cell_type": "markdown",
      "metadata": {
        "id": "_x9do87tdxHT"
      },
      "source": [
        "## Nettoyage des données gardées\n",
        "\n",
        "#### Nous allons remplacer les valeurs manquantes par la médiane de la variable concernée"
      ]
    },
    {
      "cell_type": "code",
      "metadata": {
        "id": "tLtQBfMlM-Fj",
        "outputId": "dc2da7dc-c40f-4599-8126-0c2f5ab0f0f3",
        "colab": {
          "base_uri": "https://localhost:8080/",
          "height": 439
        }
      },
      "source": [
        "# Remplacer les NaN en utilisant la médiane\n",
        "median = dataset['AWND'].median()\n",
        "dataset['AWND'].fillna(median, inplace=True)\n",
        "\n",
        "median = dataset['PRCP'].median()\n",
        "dataset['PRCP'].fillna(median, inplace=True)\n",
        "\n",
        "median = dataset['SNOW'].median()\n",
        "dataset['SNOW'].fillna(median, inplace=True)\n",
        "\n",
        "median = dataset['TMAX'].median()\n",
        "dataset['TMAX'].fillna(median, inplace=True)\n",
        "\n",
        "median = dataset['DEP_TIME'].median()\n",
        "dataset['DEP_TIME'].fillna(median, inplace=True)\n",
        "\n",
        "median = dataset['CRS_DEP_TIME'].median()\n",
        "dataset['CRS_DEP_TIME'].fillna(median, inplace=True)\n",
        "\n",
        "median = dataset['DEP_DEL15'].median()\n",
        "dataset['DEP_DEL15'].fillna(median, inplace=True)\n",
        "\n",
        "median = dataset['ARR_TIME'].median()\n",
        "dataset['ARR_TIME'].fillna(median, inplace=True)\n",
        "\n",
        "median = dataset['CRS_ARR_TIME'].median()\n",
        "dataset['CRS_ARR_TIME'].fillna(median, inplace=True)\n",
        "\n",
        "median = dataset['ARR_DEL15'].median()\n",
        "dataset['ARR_DEL15'].fillna(median, inplace=True)\n",
        "\n",
        "median = dataset['CANCELLED'].median()\n",
        "dataset['CANCELLED'].fillna(median, inplace=True)\n",
        "\n",
        "median = dataset['AIR_TIME'].median()\n",
        "dataset['AIR_TIME'].fillna(median, inplace=True)\n",
        "\n",
        "median = dataset['FLIGHTS'].median()\n",
        "dataset['FLIGHTS'].fillna(median, inplace=True)\n",
        "\n",
        "median = dataset['DISTANCE'].median()\n",
        "dataset['DISTANCE'].fillna(median, inplace=True)\n",
        "\n",
        "median = dataset['WEATHER_DELAY'].median()\n",
        "dataset['WEATHER_DELAY'].fillna(median, inplace=True)\n",
        "\n",
        "dataset"
      ],
      "execution_count": null,
      "outputs": [
        {
          "output_type": "execute_result",
          "data": {
            "text/html": [
              "<div>\n",
              "<style scoped>\n",
              "    .dataframe tbody tr th:only-of-type {\n",
              "        vertical-align: middle;\n",
              "    }\n",
              "\n",
              "    .dataframe tbody tr th {\n",
              "        vertical-align: top;\n",
              "    }\n",
              "\n",
              "    .dataframe thead th {\n",
              "        text-align: right;\n",
              "    }\n",
              "</style>\n",
              "<table border=\"1\" class=\"dataframe\">\n",
              "  <thead>\n",
              "    <tr style=\"text-align: right;\">\n",
              "      <th></th>\n",
              "      <th>DAY_OF_WEEK</th>\n",
              "      <th>CRS_DEP_TIME</th>\n",
              "      <th>DEP_TIME</th>\n",
              "      <th>DEP_DEL15</th>\n",
              "      <th>CRS_ARR_TIME</th>\n",
              "      <th>ARR_TIME</th>\n",
              "      <th>ARR_DEL15</th>\n",
              "      <th>CANCELLED</th>\n",
              "      <th>AIR_TIME</th>\n",
              "      <th>FLIGHTS</th>\n",
              "      <th>DISTANCE</th>\n",
              "      <th>WEATHER_DELAY</th>\n",
              "      <th>AWND</th>\n",
              "      <th>PRCP</th>\n",
              "      <th>SNOW</th>\n",
              "      <th>TMAX</th>\n",
              "    </tr>\n",
              "  </thead>\n",
              "  <tbody>\n",
              "    <tr>\n",
              "      <th>7</th>\n",
              "      <td>7</td>\n",
              "      <td>1155</td>\n",
              "      <td>1153.0</td>\n",
              "      <td>0.0</td>\n",
              "      <td>1510</td>\n",
              "      <td>1550.0</td>\n",
              "      <td>1.0</td>\n",
              "      <td>0.0</td>\n",
              "      <td>116.0</td>\n",
              "      <td>1.0</td>\n",
              "      <td>740.0</td>\n",
              "      <td>0.0</td>\n",
              "      <td>11.18</td>\n",
              "      <td>0.2</td>\n",
              "      <td>0.0</td>\n",
              "      <td>34</td>\n",
              "    </tr>\n",
              "    <tr>\n",
              "      <th>30</th>\n",
              "      <td>7</td>\n",
              "      <td>1020</td>\n",
              "      <td>1016.0</td>\n",
              "      <td>0.0</td>\n",
              "      <td>1043</td>\n",
              "      <td>1029.0</td>\n",
              "      <td>0.0</td>\n",
              "      <td>0.0</td>\n",
              "      <td>48.0</td>\n",
              "      <td>1.0</td>\n",
              "      <td>228.0</td>\n",
              "      <td>0.0</td>\n",
              "      <td>11.18</td>\n",
              "      <td>0.2</td>\n",
              "      <td>0.0</td>\n",
              "      <td>34</td>\n",
              "    </tr>\n",
              "    <tr>\n",
              "      <th>31</th>\n",
              "      <td>7</td>\n",
              "      <td>1215</td>\n",
              "      <td>1209.0</td>\n",
              "      <td>0.0</td>\n",
              "      <td>1428</td>\n",
              "      <td>1413.0</td>\n",
              "      <td>0.0</td>\n",
              "      <td>0.0</td>\n",
              "      <td>42.0</td>\n",
              "      <td>1.0</td>\n",
              "      <td>228.0</td>\n",
              "      <td>0.0</td>\n",
              "      <td>11.18</td>\n",
              "      <td>0.2</td>\n",
              "      <td>0.0</td>\n",
              "      <td>34</td>\n",
              "    </tr>\n",
              "    <tr>\n",
              "      <th>121</th>\n",
              "      <td>7</td>\n",
              "      <td>700</td>\n",
              "      <td>658.0</td>\n",
              "      <td>0.0</td>\n",
              "      <td>918</td>\n",
              "      <td>859.0</td>\n",
              "      <td>0.0</td>\n",
              "      <td>0.0</td>\n",
              "      <td>39.0</td>\n",
              "      <td>1.0</td>\n",
              "      <td>228.0</td>\n",
              "      <td>0.0</td>\n",
              "      <td>11.18</td>\n",
              "      <td>0.2</td>\n",
              "      <td>0.0</td>\n",
              "      <td>34</td>\n",
              "    </tr>\n",
              "    <tr>\n",
              "      <th>181</th>\n",
              "      <td>7</td>\n",
              "      <td>1825</td>\n",
              "      <td>1912.0</td>\n",
              "      <td>1.0</td>\n",
              "      <td>2225</td>\n",
              "      <td>2321.0</td>\n",
              "      <td>1.0</td>\n",
              "      <td>0.0</td>\n",
              "      <td>167.0</td>\n",
              "      <td>1.0</td>\n",
              "      <td>1197.0</td>\n",
              "      <td>0.0</td>\n",
              "      <td>11.18</td>\n",
              "      <td>0.2</td>\n",
              "      <td>0.0</td>\n",
              "      <td>34</td>\n",
              "    </tr>\n",
              "    <tr>\n",
              "      <th>...</th>\n",
              "      <td>...</td>\n",
              "      <td>...</td>\n",
              "      <td>...</td>\n",
              "      <td>...</td>\n",
              "      <td>...</td>\n",
              "      <td>...</td>\n",
              "      <td>...</td>\n",
              "      <td>...</td>\n",
              "      <td>...</td>\n",
              "      <td>...</td>\n",
              "      <td>...</td>\n",
              "      <td>...</td>\n",
              "      <td>...</td>\n",
              "      <td>...</td>\n",
              "      <td>...</td>\n",
              "      <td>...</td>\n",
              "    </tr>\n",
              "    <tr>\n",
              "      <th>516705</th>\n",
              "      <td>2</td>\n",
              "      <td>1139</td>\n",
              "      <td>1256.0</td>\n",
              "      <td>1.0</td>\n",
              "      <td>1415</td>\n",
              "      <td>1541.0</td>\n",
              "      <td>1.0</td>\n",
              "      <td>0.0</td>\n",
              "      <td>128.0</td>\n",
              "      <td>1.0</td>\n",
              "      <td>1041.0</td>\n",
              "      <td>0.0</td>\n",
              "      <td>8.05</td>\n",
              "      <td>0.3</td>\n",
              "      <td>3.0</td>\n",
              "      <td>12</td>\n",
              "    </tr>\n",
              "    <tr>\n",
              "      <th>516706</th>\n",
              "      <td>2</td>\n",
              "      <td>620</td>\n",
              "      <td>616.0</td>\n",
              "      <td>0.0</td>\n",
              "      <td>900</td>\n",
              "      <td>848.0</td>\n",
              "      <td>0.0</td>\n",
              "      <td>0.0</td>\n",
              "      <td>126.0</td>\n",
              "      <td>1.0</td>\n",
              "      <td>1041.0</td>\n",
              "      <td>0.0</td>\n",
              "      <td>8.05</td>\n",
              "      <td>0.3</td>\n",
              "      <td>3.0</td>\n",
              "      <td>12</td>\n",
              "    </tr>\n",
              "    <tr>\n",
              "      <th>516716</th>\n",
              "      <td>2</td>\n",
              "      <td>1144</td>\n",
              "      <td>1134.0</td>\n",
              "      <td>0.0</td>\n",
              "      <td>1307</td>\n",
              "      <td>1251.0</td>\n",
              "      <td>0.0</td>\n",
              "      <td>0.0</td>\n",
              "      <td>119.0</td>\n",
              "      <td>1.0</td>\n",
              "      <td>773.0</td>\n",
              "      <td>0.0</td>\n",
              "      <td>8.05</td>\n",
              "      <td>0.3</td>\n",
              "      <td>3.0</td>\n",
              "      <td>12</td>\n",
              "    </tr>\n",
              "    <tr>\n",
              "      <th>516719</th>\n",
              "      <td>2</td>\n",
              "      <td>600</td>\n",
              "      <td>557.0</td>\n",
              "      <td>0.0</td>\n",
              "      <td>542</td>\n",
              "      <td>605.0</td>\n",
              "      <td>1.0</td>\n",
              "      <td>0.0</td>\n",
              "      <td>23.0</td>\n",
              "      <td>1.0</td>\n",
              "      <td>84.0</td>\n",
              "      <td>0.0</td>\n",
              "      <td>8.05</td>\n",
              "      <td>0.3</td>\n",
              "      <td>3.0</td>\n",
              "      <td>12</td>\n",
              "    </tr>\n",
              "    <tr>\n",
              "      <th>516720</th>\n",
              "      <td>2</td>\n",
              "      <td>1713</td>\n",
              "      <td>1341.0</td>\n",
              "      <td>0.0</td>\n",
              "      <td>1700</td>\n",
              "      <td>1528.0</td>\n",
              "      <td>0.0</td>\n",
              "      <td>1.0</td>\n",
              "      <td>94.0</td>\n",
              "      <td>1.0</td>\n",
              "      <td>84.0</td>\n",
              "      <td>0.0</td>\n",
              "      <td>8.05</td>\n",
              "      <td>0.3</td>\n",
              "      <td>3.0</td>\n",
              "      <td>12</td>\n",
              "    </tr>\n",
              "  </tbody>\n",
              "</table>\n",
              "<p>60708 rows × 16 columns</p>\n",
              "</div>"
            ],
            "text/plain": [
              "        DAY_OF_WEEK  CRS_DEP_TIME  DEP_TIME  DEP_DEL15  ...   AWND  PRCP  SNOW  TMAX\n",
              "7                 7          1155    1153.0        0.0  ...  11.18   0.2   0.0    34\n",
              "30                7          1020    1016.0        0.0  ...  11.18   0.2   0.0    34\n",
              "31                7          1215    1209.0        0.0  ...  11.18   0.2   0.0    34\n",
              "121               7           700     658.0        0.0  ...  11.18   0.2   0.0    34\n",
              "181               7          1825    1912.0        1.0  ...  11.18   0.2   0.0    34\n",
              "...             ...           ...       ...        ...  ...    ...   ...   ...   ...\n",
              "516705            2          1139    1256.0        1.0  ...   8.05   0.3   3.0    12\n",
              "516706            2           620     616.0        0.0  ...   8.05   0.3   3.0    12\n",
              "516716            2          1144    1134.0        0.0  ...   8.05   0.3   3.0    12\n",
              "516719            2           600     557.0        0.0  ...   8.05   0.3   3.0    12\n",
              "516720            2          1713    1341.0        0.0  ...   8.05   0.3   3.0    12\n",
              "\n",
              "[60708 rows x 16 columns]"
            ]
          },
          "metadata": {
            "tags": []
          },
          "execution_count": 10
        }
      ]
    },
    {
      "cell_type": "markdown",
      "metadata": {
        "id": "D0eODIhuM-Fp"
      },
      "source": [
        "### But 1: Predire si le vol arrivera en retard de 15 min où non"
      ]
    },
    {
      "cell_type": "code",
      "metadata": {
        "id": "8ekkl8zMM-Fp",
        "outputId": "0183ec83-aec8-4e67-9393-30c69e376f4b",
        "colab": {
          "base_uri": "https://localhost:8080/",
          "height": 238
        }
      },
      "source": [
        "# Choix de la target et des features\n",
        "y=dataset['ARR_DEL15']\n",
        "X = dataset.loc[:, dataset.columns != 'ARR_DEL15']\n",
        "X = X.loc[:, X.columns != 'CANCELLED']\n",
        "X = X.loc[:, X.columns != 'ARR_TIME']\n",
        "X_train, X_test, y_train, y_test = train_test_split(X, y, test_size=0.3, random_state=42)\n",
        "# Liste des features retenus\n",
        "list(X)"
      ],
      "execution_count": null,
      "outputs": [
        {
          "output_type": "execute_result",
          "data": {
            "text/plain": [
              "['DAY_OF_WEEK',\n",
              " 'CRS_DEP_TIME',\n",
              " 'DEP_TIME',\n",
              " 'DEP_DEL15',\n",
              " 'CRS_ARR_TIME',\n",
              " 'AIR_TIME',\n",
              " 'FLIGHTS',\n",
              " 'DISTANCE',\n",
              " 'WEATHER_DELAY',\n",
              " 'AWND',\n",
              " 'PRCP',\n",
              " 'SNOW',\n",
              " 'TMAX']"
            ]
          },
          "metadata": {
            "tags": []
          },
          "execution_count": 44
        }
      ]
    },
    {
      "cell_type": "code",
      "metadata": {
        "id": "ifbEcOOiM-Fs"
      },
      "source": [
        "# Librairie des modèles machine learning\n",
        "from sklearn.linear_model import LogisticRegression\n",
        "from sklearn.model_selection import cross_val_score\n",
        "from sklearn.tree import DecisionTreeClassifier\n",
        "from sklearn.metrics import classification_report, confusion_matrix, accuracy_score\n",
        "from sklearn.preprocessing import StandardScaler\n",
        "from sklearn.utils.multiclass import unique_labels\n",
        "from sklearn.neural_network import MLPClassifier\n",
        "from sklearn.neighbors import KNeighborsClassifier\n",
        "from sklearn.ensemble import RandomForestClassifier, VotingClassifier\n",
        "import lightgbm as lgb\n",
        "import xgboost as xgb\n",
        "\n",
        "import matplotlib.pyplot as plt\n",
        "import seaborn as sns\n",
        "import numpy as np"
      ],
      "execution_count": null,
      "outputs": []
    },
    {
      "cell_type": "code",
      "metadata": {
        "id": "B9s6-KSDM-Fu"
      },
      "source": [
        "# Normalisation des données\n",
        "scaler = StandardScaler()\n",
        "X_train = scaler.fit_transform(X_train)\n",
        "X_test = scaler.transform(X_test)"
      ],
      "execution_count": null,
      "outputs": []
    },
    {
      "cell_type": "markdown",
      "metadata": {
        "id": "e9IqtBsuM-Fw"
      },
      "source": [
        "### Initialisation du dictionnaire des paramètres\n"
      ]
    },
    {
      "cell_type": "code",
      "metadata": {
        "id": "9tPek6XiM-Fw"
      },
      "source": [
        "lgb_params = {}\n",
        "\n",
        "rf_params = {}\n",
        "\n",
        "xgb_params = {}\n",
        "\n",
        "dt_params = {}\n",
        "\n",
        "mlp_params = {}\n",
        "\n",
        "knn_params = {}\n",
        "\n",
        "lr_params = {}"
      ],
      "execution_count": null,
      "outputs": []
    },
    {
      "cell_type": "markdown",
      "metadata": {
        "id": "vy_K7hWBM-Fy"
      },
      "source": [
        "### Models and Labels Dictionaries\n",
        "\n",
        "1.   Élément de liste\n",
        "2.   Élément de liste\n",
        "\n"
      ]
    },
    {
      "cell_type": "code",
      "metadata": {
        "id": "WVmQXOyLM-Fy"
      },
      "source": [
        "models = {'dt':DecisionTreeClassifier(**dt_params),\n",
        "          'rf':RandomForestClassifier(**rf_params), \n",
        "          'lgb':lgb.LGBMClassifier(**lgb_params), \n",
        "          'xgb':xgb.XGBClassifier(**xgb_params),\n",
        "          'mlp':MLPClassifier(**mlp_params), \n",
        "          'kn':KNeighborsClassifier(**knn_params),  \n",
        "          'lr':LogisticRegression(**lr_params)}\n",
        "\n",
        "model_abrv = {'dt':'Decision Tree Classifier', \n",
        "              'rf':'Random Forest Classifier', \n",
        "              'lgb':'LGBM Classifier', \n",
        "              'xgb':'XGB Classifier', \n",
        "              'mlp':'MLP Classifier',\n",
        "              'kn':'K-Nearest Neighbors', \n",
        "              'lr':'Logistic Regression', \n",
        "              'v':'Voting Classifier: MLP, LGB', \n",
        "              'v2':'Voting Classifier 2: KNN, XGB, MLP', \n",
        "              'v3':'Voting Classifier 3: XGB, MLP, RF, LR', \n",
        "              'v4':'Voting Classifier 4: MLP, XGB'}"
      ],
      "execution_count": null,
      "outputs": []
    },
    {
      "cell_type": "markdown",
      "metadata": {
        "id": "cAvtpZ_5M-F0"
      },
      "source": [
        "### Models Dictionary Needs to be Created Before these Parameter Dictionaries"
      ]
    },
    {
      "cell_type": "code",
      "metadata": {
        "id": "c8CImQJHM-F1"
      },
      "source": [
        "v_params = {'estimators':[('mlp', models['mlp']), \n",
        "                          ('lgb', models['lgb'])], \n",
        "            'voting':'soft'}\n",
        "\n",
        "v2_params = {'estimators':[('kn', models['kn']), \n",
        "                           ('xgb', models['xgb']), \n",
        "                           ('mlp', models['mlp'])], \n",
        "             'voting':'soft'}\n",
        "\n",
        "v3_params = {'estimators':[('xgb', models['xgb']),\n",
        "                           ('mlp', models['mlp']),\n",
        "                           ('rf', models['rf']), \n",
        "                           ('lr', models['lr'])], \n",
        "             'voting':'soft'}\n",
        "\n",
        "v4_params = {'estimators':[('mlp', models['mlp']), \n",
        "                          ('xgb', models['xgb'])], \n",
        "            'voting':'soft'}"
      ],
      "execution_count": null,
      "outputs": []
    },
    {
      "cell_type": "markdown",
      "metadata": {
        "id": "LuvCA7L6M-F2"
      },
      "source": [
        "### Add Voting Classifiers to Models Dictionary"
      ]
    },
    {
      "cell_type": "code",
      "metadata": {
        "id": "ZNXUNXEJM-F3"
      },
      "source": [
        "models['v'] = VotingClassifier(**v_params)\n",
        "models['v2'] = VotingClassifier(**v2_params)\n",
        "models['v3'] = VotingClassifier(**v3_params)\n",
        "models['v4'] = VotingClassifier(**v4_params)"
      ],
      "execution_count": null,
      "outputs": []
    },
    {
      "cell_type": "markdown",
      "metadata": {
        "id": "HXyRH1uEM-F5"
      },
      "source": [
        "### Modeling and Statistics Functions"
      ]
    },
    {
      "cell_type": "code",
      "metadata": {
        "id": "EGKQmoUXM-F5"
      },
      "source": [
        "def print_confusion_matrix(confusion_matrix, class_names, figsize = (10,7), fontsize=14, model='clf', save=True):\n",
        "    \"\"\"Prints a confusion matrix, as returned by sklearn.metrics.confusion_matrix, as a seaborn heatmap. \n",
        "    Saves confusion matrix file to jpg file.\"\"\"\n",
        "    df_cm = pd.DataFrame(\n",
        "        confusion_matrix, index=class_names, columns=class_names, \n",
        "    )\n",
        "    fig, ax = plt.subplots(1, 1, figsize=figsize)\n",
        "    try:\n",
        "        heatmap = sns.heatmap(df_cm, annot=True, ax=ax, fmt=\"d\", cmap=plt.cm.Oranges)\n",
        "    except ValueError:\n",
        "        raise ValueError(\"Confusion matrix values must be integers.\")\n",
        "        \n",
        "    heatmap.yaxis.set_ticklabels(heatmap.yaxis.get_ticklabels(), rotation=0, ha='right', fontsize=fontsize)\n",
        "    heatmap.xaxis.set_ticklabels(heatmap.xaxis.get_ticklabels(), rotation=45, ha='right', fontsize=fontsize)\n",
        "    plt.ylabel('True label')\n",
        "    plt.xlabel('Predicted label')\n",
        "    plt.tight_layout()\n",
        "    # fix for mpl bug that cuts off top/bottom of seaborn viz\n",
        "    b, t = plt.ylim() \n",
        "    b += 0.5 \n",
        "    t -= 0.5 \n",
        "    plt.ylim(b, t) \n",
        "    if save == True:\n",
        "        plt.savefig('tuned_' + model_abrv[model] + '_confusion_matrix.jpg')\n",
        "    plt.show()"
      ],
      "execution_count": null,
      "outputs": []
    },
    {
      "cell_type": "markdown",
      "metadata": {
        "id": "-cDlYgfYM-F9"
      },
      "source": [
        "### CV 10 Fold Accuracy"
      ]
    },
    {
      "cell_type": "code",
      "metadata": {
        "id": "bxhfc9fwM-F7"
      },
      "source": [
        "def model(clf, X_train=X_train, X_test=X_test, y_train=y_train, y_test=y_test, models=models, save=False, print_stat=True, inc_train=False, cv=False,label):\n",
        "    \"\"\"Trains models and outputs score metrics. Takes an identifier, list of models, and split dataset as inputs and has options for saving model, \n",
        "    printing confusion matrix and classification report and getting cross-validated 5 fold accuracy.\"\"\"\n",
        "    clf_model = models[clf]\n",
        "    clf_model.fit(X_train, y_train)\n",
        "    y_pred = clf_model.predict(X_test)\n",
        "    if print_stat == True:\n",
        "        clf_report = pd.DataFrame(classification_report(y_test,y_pred, output_dict=True)).T\n",
        "        clf_report.to_csv('tuned_' + model_abrv[clf] + '_classification_report.csv')\n",
        "        print(model_abrv[clf])\n",
        "        print('\\nTest Stats\\n', classification_report(y_test,y_pred))\n",
        "        print_confusion_matrix(confusion_matrix(y_test, y_pred), unique_labels(y_test, y_pred), model=clf)\n",
        "        if inc_train == True:\n",
        "            print(model_abrv[clf])\n",
        "            print('\\nTrain Stats\\n', classification_report(y_train,clf_model.predict(X_train)))\n",
        "            print_confusion_matrix(confusion_matrix(y_train, clf_model.predict(X_train)), unique_labels(y_test, y_pred), model=clf)\n",
        "    if cv == True:\n",
        "        print(model_abrv[clf] + ' CV Accuracy:',  \n",
        "              np.mean(cross_val_score(clf_model, X_train, y_train, cv=10, scoring='accuracy')))\n",
        "    if save == True:\n",
        "        return clf_model"
      ],
      "execution_count": null,
      "outputs": []
    },
    {
      "cell_type": "markdown",
      "metadata": {
        "id": "V8Myds-LM-F9"
      },
      "source": [
        "## Modelisation"
      ]
    },
    {
      "cell_type": "code",
      "metadata": {
        "id": "lV9IWWVYM-F-",
        "outputId": "65b59674-3ccb-47ff-cfd8-0f8dd97f5033",
        "colab": {
          "base_uri": "https://localhost:8080/",
          "height": 1000
        }
      },
      "source": [
        "for key in models.keys():\n",
        "    model(key, cv=True, print_stat=False)"
      ],
      "execution_count": null,
      "outputs": [
        {
          "output_type": "stream",
          "text": [
            "Decision Tree Classifier CV Accuracy: 0.8265208533495771\n",
            "Random Forest Classifier CV Accuracy: 0.8708552711364612\n",
            "LGBM Classifier CV Accuracy: 0.8800798693118106\n",
            "XGB Classifier CV Accuracy: 0.8635602453172373\n"
          ],
          "name": "stdout"
        },
        {
          "output_type": "stream",
          "text": [
            "/usr/local/lib/python3.6/dist-packages/sklearn/neural_network/_multilayer_perceptron.py:571: ConvergenceWarning: Stochastic Optimizer: Maximum iterations (200) reached and the optimization hasn't converged yet.\n",
            "  % self.max_iter, ConvergenceWarning)\n",
            "/usr/local/lib/python3.6/dist-packages/sklearn/neural_network/_multilayer_perceptron.py:571: ConvergenceWarning: Stochastic Optimizer: Maximum iterations (200) reached and the optimization hasn't converged yet.\n",
            "  % self.max_iter, ConvergenceWarning)\n",
            "/usr/local/lib/python3.6/dist-packages/sklearn/neural_network/_multilayer_perceptron.py:571: ConvergenceWarning: Stochastic Optimizer: Maximum iterations (200) reached and the optimization hasn't converged yet.\n",
            "  % self.max_iter, ConvergenceWarning)\n",
            "/usr/local/lib/python3.6/dist-packages/sklearn/neural_network/_multilayer_perceptron.py:571: ConvergenceWarning: Stochastic Optimizer: Maximum iterations (200) reached and the optimization hasn't converged yet.\n",
            "  % self.max_iter, ConvergenceWarning)\n",
            "/usr/local/lib/python3.6/dist-packages/sklearn/neural_network/_multilayer_perceptron.py:571: ConvergenceWarning: Stochastic Optimizer: Maximum iterations (200) reached and the optimization hasn't converged yet.\n",
            "  % self.max_iter, ConvergenceWarning)\n",
            "/usr/local/lib/python3.6/dist-packages/sklearn/neural_network/_multilayer_perceptron.py:571: ConvergenceWarning: Stochastic Optimizer: Maximum iterations (200) reached and the optimization hasn't converged yet.\n",
            "  % self.max_iter, ConvergenceWarning)\n",
            "/usr/local/lib/python3.6/dist-packages/sklearn/neural_network/_multilayer_perceptron.py:571: ConvergenceWarning: Stochastic Optimizer: Maximum iterations (200) reached and the optimization hasn't converged yet.\n",
            "  % self.max_iter, ConvergenceWarning)\n",
            "/usr/local/lib/python3.6/dist-packages/sklearn/neural_network/_multilayer_perceptron.py:571: ConvergenceWarning: Stochastic Optimizer: Maximum iterations (200) reached and the optimization hasn't converged yet.\n",
            "  % self.max_iter, ConvergenceWarning)\n"
          ],
          "name": "stderr"
        },
        {
          "output_type": "stream",
          "text": [
            "MLP Classifier CV Accuracy: 0.8818447302479475\n",
            "K-Nearest Neighbors CV Accuracy: 0.8516295155953649\n",
            "Logistic Regression CV Accuracy: 0.8537944595960294\n"
          ],
          "name": "stdout"
        },
        {
          "output_type": "stream",
          "text": [
            "/usr/local/lib/python3.6/dist-packages/sklearn/neural_network/_multilayer_perceptron.py:571: ConvergenceWarning: Stochastic Optimizer: Maximum iterations (200) reached and the optimization hasn't converged yet.\n",
            "  % self.max_iter, ConvergenceWarning)\n",
            "/usr/local/lib/python3.6/dist-packages/sklearn/neural_network/_multilayer_perceptron.py:571: ConvergenceWarning: Stochastic Optimizer: Maximum iterations (200) reached and the optimization hasn't converged yet.\n",
            "  % self.max_iter, ConvergenceWarning)\n",
            "/usr/local/lib/python3.6/dist-packages/sklearn/neural_network/_multilayer_perceptron.py:571: ConvergenceWarning: Stochastic Optimizer: Maximum iterations (200) reached and the optimization hasn't converged yet.\n",
            "  % self.max_iter, ConvergenceWarning)\n",
            "/usr/local/lib/python3.6/dist-packages/sklearn/neural_network/_multilayer_perceptron.py:571: ConvergenceWarning: Stochastic Optimizer: Maximum iterations (200) reached and the optimization hasn't converged yet.\n",
            "  % self.max_iter, ConvergenceWarning)\n",
            "/usr/local/lib/python3.6/dist-packages/sklearn/neural_network/_multilayer_perceptron.py:571: ConvergenceWarning: Stochastic Optimizer: Maximum iterations (200) reached and the optimization hasn't converged yet.\n",
            "  % self.max_iter, ConvergenceWarning)\n",
            "/usr/local/lib/python3.6/dist-packages/sklearn/neural_network/_multilayer_perceptron.py:571: ConvergenceWarning: Stochastic Optimizer: Maximum iterations (200) reached and the optimization hasn't converged yet.\n",
            "  % self.max_iter, ConvergenceWarning)\n"
          ],
          "name": "stderr"
        },
        {
          "output_type": "stream",
          "text": [
            "Voting Classifier: MLP, LGB CV Accuracy: 0.8854687525092408\n"
          ],
          "name": "stdout"
        },
        {
          "output_type": "stream",
          "text": [
            "/usr/local/lib/python3.6/dist-packages/sklearn/neural_network/_multilayer_perceptron.py:571: ConvergenceWarning: Stochastic Optimizer: Maximum iterations (200) reached and the optimization hasn't converged yet.\n",
            "  % self.max_iter, ConvergenceWarning)\n",
            "/usr/local/lib/python3.6/dist-packages/sklearn/neural_network/_multilayer_perceptron.py:571: ConvergenceWarning: Stochastic Optimizer: Maximum iterations (200) reached and the optimization hasn't converged yet.\n",
            "  % self.max_iter, ConvergenceWarning)\n",
            "/usr/local/lib/python3.6/dist-packages/sklearn/neural_network/_multilayer_perceptron.py:571: ConvergenceWarning: Stochastic Optimizer: Maximum iterations (200) reached and the optimization hasn't converged yet.\n",
            "  % self.max_iter, ConvergenceWarning)\n",
            "/usr/local/lib/python3.6/dist-packages/sklearn/neural_network/_multilayer_perceptron.py:571: ConvergenceWarning: Stochastic Optimizer: Maximum iterations (200) reached and the optimization hasn't converged yet.\n",
            "  % self.max_iter, ConvergenceWarning)\n",
            "/usr/local/lib/python3.6/dist-packages/sklearn/neural_network/_multilayer_perceptron.py:571: ConvergenceWarning: Stochastic Optimizer: Maximum iterations (200) reached and the optimization hasn't converged yet.\n",
            "  % self.max_iter, ConvergenceWarning)\n",
            "/usr/local/lib/python3.6/dist-packages/sklearn/neural_network/_multilayer_perceptron.py:571: ConvergenceWarning: Stochastic Optimizer: Maximum iterations (200) reached and the optimization hasn't converged yet.\n",
            "  % self.max_iter, ConvergenceWarning)\n"
          ],
          "name": "stderr"
        },
        {
          "output_type": "stream",
          "text": [
            "Voting Classifier 2: KNN, XGB, MLP CV Accuracy: 0.8749500311491977\n"
          ],
          "name": "stdout"
        },
        {
          "output_type": "stream",
          "text": [
            "/usr/local/lib/python3.6/dist-packages/sklearn/neural_network/_multilayer_perceptron.py:571: ConvergenceWarning: Stochastic Optimizer: Maximum iterations (200) reached and the optimization hasn't converged yet.\n",
            "  % self.max_iter, ConvergenceWarning)\n",
            "/usr/local/lib/python3.6/dist-packages/sklearn/neural_network/_multilayer_perceptron.py:571: ConvergenceWarning: Stochastic Optimizer: Maximum iterations (200) reached and the optimization hasn't converged yet.\n",
            "  % self.max_iter, ConvergenceWarning)\n",
            "/usr/local/lib/python3.6/dist-packages/sklearn/neural_network/_multilayer_perceptron.py:571: ConvergenceWarning: Stochastic Optimizer: Maximum iterations (200) reached and the optimization hasn't converged yet.\n",
            "  % self.max_iter, ConvergenceWarning)\n",
            "/usr/local/lib/python3.6/dist-packages/sklearn/neural_network/_multilayer_perceptron.py:571: ConvergenceWarning: Stochastic Optimizer: Maximum iterations (200) reached and the optimization hasn't converged yet.\n",
            "  % self.max_iter, ConvergenceWarning)\n",
            "/usr/local/lib/python3.6/dist-packages/sklearn/neural_network/_multilayer_perceptron.py:571: ConvergenceWarning: Stochastic Optimizer: Maximum iterations (200) reached and the optimization hasn't converged yet.\n",
            "  % self.max_iter, ConvergenceWarning)\n",
            "/usr/local/lib/python3.6/dist-packages/sklearn/neural_network/_multilayer_perceptron.py:571: ConvergenceWarning: Stochastic Optimizer: Maximum iterations (200) reached and the optimization hasn't converged yet.\n",
            "  % self.max_iter, ConvergenceWarning)\n",
            "/usr/local/lib/python3.6/dist-packages/sklearn/neural_network/_multilayer_perceptron.py:571: ConvergenceWarning: Stochastic Optimizer: Maximum iterations (200) reached and the optimization hasn't converged yet.\n",
            "  % self.max_iter, ConvergenceWarning)\n",
            "/usr/local/lib/python3.6/dist-packages/sklearn/neural_network/_multilayer_perceptron.py:571: ConvergenceWarning: Stochastic Optimizer: Maximum iterations (200) reached and the optimization hasn't converged yet.\n",
            "  % self.max_iter, ConvergenceWarning)\n",
            "/usr/local/lib/python3.6/dist-packages/sklearn/neural_network/_multilayer_perceptron.py:571: ConvergenceWarning: Stochastic Optimizer: Maximum iterations (200) reached and the optimization hasn't converged yet.\n",
            "  % self.max_iter, ConvergenceWarning)\n"
          ],
          "name": "stderr"
        },
        {
          "output_type": "stream",
          "text": [
            "Voting Classifier 3: XGB, MLP, RF, LR CV Accuracy: 0.8709258815222958\n"
          ],
          "name": "stdout"
        },
        {
          "output_type": "stream",
          "text": [
            "/usr/local/lib/python3.6/dist-packages/sklearn/neural_network/_multilayer_perceptron.py:571: ConvergenceWarning: Stochastic Optimizer: Maximum iterations (200) reached and the optimization hasn't converged yet.\n",
            "  % self.max_iter, ConvergenceWarning)\n",
            "/usr/local/lib/python3.6/dist-packages/sklearn/neural_network/_multilayer_perceptron.py:571: ConvergenceWarning: Stochastic Optimizer: Maximum iterations (200) reached and the optimization hasn't converged yet.\n",
            "  % self.max_iter, ConvergenceWarning)\n",
            "/usr/local/lib/python3.6/dist-packages/sklearn/neural_network/_multilayer_perceptron.py:571: ConvergenceWarning: Stochastic Optimizer: Maximum iterations (200) reached and the optimization hasn't converged yet.\n",
            "  % self.max_iter, ConvergenceWarning)\n",
            "/usr/local/lib/python3.6/dist-packages/sklearn/neural_network/_multilayer_perceptron.py:571: ConvergenceWarning: Stochastic Optimizer: Maximum iterations (200) reached and the optimization hasn't converged yet.\n",
            "  % self.max_iter, ConvergenceWarning)\n",
            "/usr/local/lib/python3.6/dist-packages/sklearn/neural_network/_multilayer_perceptron.py:571: ConvergenceWarning: Stochastic Optimizer: Maximum iterations (200) reached and the optimization hasn't converged yet.\n",
            "  % self.max_iter, ConvergenceWarning)\n",
            "/usr/local/lib/python3.6/dist-packages/sklearn/neural_network/_multilayer_perceptron.py:571: ConvergenceWarning: Stochastic Optimizer: Maximum iterations (200) reached and the optimization hasn't converged yet.\n",
            "  % self.max_iter, ConvergenceWarning)\n",
            "/usr/local/lib/python3.6/dist-packages/sklearn/neural_network/_multilayer_perceptron.py:571: ConvergenceWarning: Stochastic Optimizer: Maximum iterations (200) reached and the optimization hasn't converged yet.\n",
            "  % self.max_iter, ConvergenceWarning)\n"
          ],
          "name": "stderr"
        },
        {
          "output_type": "stream",
          "text": [
            "Voting Classifier 4: MLP, XGB CV Accuracy: 0.8776092035496241\n"
          ],
          "name": "stdout"
        }
      ]
    },
    {
      "cell_type": "code",
      "metadata": {
        "scrolled": false,
        "id": "MJQy7qSDM-GA",
        "outputId": "64bb3dfb-34b9-49ea-a393-cde91327247b",
        "colab": {
          "base_uri": "https://localhost:8080/",
          "height": 1000
        }
      },
      "source": [
        "for key in models.keys():\n",
        "    model(key, inc_train=False)"
      ],
      "execution_count": null,
      "outputs": [
        {
          "output_type": "stream",
          "text": [
            "Decision Tree Classifier\n",
            "\n",
            "Test Stats\n",
            "               precision    recall  f1-score   support\n",
            "\n",
            "         0.0       0.86      0.86      0.86     11245\n",
            "         1.0       0.77      0.78      0.78      6968\n",
            "\n",
            "    accuracy                           0.83     18213\n",
            "   macro avg       0.82      0.82      0.82     18213\n",
            "weighted avg       0.83      0.83      0.83     18213\n",
            "\n"
          ],
          "name": "stdout"
        },
        {
          "output_type": "display_data",
          "data": {
            "image/png": "[encoded data removed]",
            "text/plain": [
              "<Figure size 720x504 with 2 Axes>"
            ]
          },
          "metadata": {
            "tags": [],
            "needs_background": "light"
          }
        },
        {
          "output_type": "stream",
          "text": [
            "Random Forest Classifier\n",
            "\n",
            "Test Stats\n",
            "               precision    recall  f1-score   support\n",
            "\n",
            "         0.0       0.88      0.91      0.90     11245\n",
            "         1.0       0.85      0.81      0.83      6968\n",
            "\n",
            "    accuracy                           0.87     18213\n",
            "   macro avg       0.87      0.86      0.86     18213\n",
            "weighted avg       0.87      0.87      0.87     18213\n",
            "\n"
          ],
          "name": "stdout"
        },
        {
          "output_type": "display_data",
          "data": {
            "image/png": "[encoded data removed]",
            "text/plain": [
              "<Figure size 720x504 with 2 Axes>"
            ]
          },
          "metadata": {
            "tags": [],
            "needs_background": "light"
          }
        },
        {
          "output_type": "stream",
          "text": [
            "LGBM Classifier\n",
            "\n",
            "Test Stats\n",
            "               precision    recall  f1-score   support\n",
            "\n",
            "         0.0       0.88      0.92      0.90     11245\n",
            "         1.0       0.87      0.80      0.84      6968\n",
            "\n",
            "    accuracy                           0.88     18213\n",
            "   macro avg       0.88      0.86      0.87     18213\n",
            "weighted avg       0.88      0.88      0.88     18213\n",
            "\n"
          ],
          "name": "stdout"
        },
        {
          "output_type": "display_data",
          "data": {
            "image/png": "[encoded data removed]",
            "text/plain": [
              "<Figure size 720x504 with 2 Axes>"
            ]
          },
          "metadata": {
            "tags": [],
            "needs_background": "light"
          }
        },
        {
          "output_type": "stream",
          "text": [
            "XGB Classifier\n",
            "\n",
            "Test Stats\n",
            "               precision    recall  f1-score   support\n",
            "\n",
            "         0.0       0.88      0.91      0.89     11245\n",
            "         1.0       0.84      0.80      0.82      6968\n",
            "\n",
            "    accuracy                           0.86     18213\n",
            "   macro avg       0.86      0.85      0.85     18213\n",
            "weighted avg       0.86      0.86      0.86     18213\n",
            "\n"
          ],
          "name": "stdout"
        },
        {
          "output_type": "display_data",
          "data": {
            "image/png": "[encoded data removed]",
            "text/plain": [
              "<Figure size 720x504 with 2 Axes>"
            ]
          },
          "metadata": {
            "tags": [],
            "needs_background": "light"
          }
        },
        {
          "output_type": "stream",
          "text": [
            "MLP Classifier\n",
            "\n",
            "Test Stats\n",
            "               precision    recall  f1-score   support\n",
            "\n",
            "         0.0       0.87      0.95      0.91     11245\n",
            "         1.0       0.91      0.77      0.83      6968\n",
            "\n",
            "    accuracy                           0.88     18213\n",
            "   macro avg       0.89      0.86      0.87     18213\n",
            "weighted avg       0.88      0.88      0.88     18213\n",
            "\n"
          ],
          "name": "stdout"
        },
        {
          "output_type": "display_data",
          "data": {
            "image/png": "[encoded data removed]",
            "text/plain": [
              "<Figure size 720x504 with 2 Axes>"
            ]
          },
          "metadata": {
            "tags": [],
            "needs_background": "light"
          }
        },
        {
          "output_type": "stream",
          "text": [
            "K-Nearest Neighbors\n",
            "\n",
            "Test Stats\n",
            "               precision    recall  f1-score   support\n",
            "\n",
            "         0.0       0.87      0.90      0.88     11245\n",
            "         1.0       0.82      0.78      0.80      6968\n",
            "\n",
            "    accuracy                           0.85     18213\n",
            "   macro avg       0.85      0.84      0.84     18213\n",
            "weighted avg       0.85      0.85      0.85     18213\n",
            "\n"
          ],
          "name": "stdout"
        },
        {
          "output_type": "display_data",
          "data": {
            "image/png": "[encoded data removed]",
            "text/plain": [
              "<Figure size 720x504 with 2 Axes>"
            ]
          },
          "metadata": {
            "tags": [],
            "needs_background": "light"
          }
        },
        {
          "output_type": "stream",
          "text": [
            "Logistic Regression\n",
            "\n",
            "Test Stats\n",
            "               precision    recall  f1-score   support\n",
            "\n",
            "         0.0       0.87      0.90      0.88     11245\n",
            "         1.0       0.83      0.78      0.80      6968\n",
            "\n",
            "    accuracy                           0.85     18213\n",
            "   macro avg       0.85      0.84      0.84     18213\n",
            "weighted avg       0.85      0.85      0.85     18213\n",
            "\n"
          ],
          "name": "stdout"
        },
        {
          "output_type": "display_data",
          "data": {
            "image/png": "[encoded data removed]",
            "text/plain": [
              "<Figure size 720x504 with 2 Axes>"
            ]
          },
          "metadata": {
            "tags": [],
            "needs_background": "light"
          }
        },
        {
          "output_type": "stream",
          "text": [
            "Voting Classifier: MLP, LGB\n",
            "\n",
            "Test Stats\n",
            "               precision    recall  f1-score   support\n",
            "\n",
            "         0.0       0.89      0.93      0.91     11245\n",
            "         1.0       0.87      0.82      0.84      6968\n",
            "\n",
            "    accuracy                           0.88     18213\n",
            "   macro avg       0.88      0.87      0.88     18213\n",
            "weighted avg       0.88      0.88      0.88     18213\n",
            "\n"
          ],
          "name": "stdout"
        },
        {
          "output_type": "display_data",
          "data": {
            "image/png": "[encoded data removed]",
            "text/plain": [
              "<Figure size 720x504 with 2 Axes>"
            ]
          },
          "metadata": {
            "tags": [],
            "needs_background": "light"
          }
        },
        {
          "output_type": "stream",
          "text": [
            "Voting Classifier 2: KNN, XGB, MLP\n",
            "\n",
            "Test Stats\n",
            "               precision    recall  f1-score   support\n",
            "\n",
            "         0.0       0.89      0.92      0.90     11245\n",
            "         1.0       0.86      0.81      0.83      6968\n",
            "\n",
            "    accuracy                           0.88     18213\n",
            "   macro avg       0.87      0.86      0.87     18213\n",
            "weighted avg       0.87      0.88      0.87     18213\n",
            "\n"
          ],
          "name": "stdout"
        },
        {
          "output_type": "display_data",
          "data": {
            "image/png": "[encoded data removed]",
            "text/plain": [
              "<Figure size 720x504 with 2 Axes>"
            ]
          },
          "metadata": {
            "tags": [],
            "needs_background": "light"
          }
        },
        {
          "output_type": "stream",
          "text": [
            "/usr/local/lib/python3.6/dist-packages/sklearn/neural_network/_multilayer_perceptron.py:571: ConvergenceWarning: Stochastic Optimizer: Maximum iterations (200) reached and the optimization hasn't converged yet.\n",
            "  % self.max_iter, ConvergenceWarning)\n"
          ],
          "name": "stderr"
        },
        {
          "output_type": "stream",
          "text": [
            "Voting Classifier 3: XGB, MLP, RF, LR\n",
            "\n",
            "Test Stats\n",
            "               precision    recall  f1-score   support\n",
            "\n",
            "         0.0       0.88      0.92      0.90     11245\n",
            "         1.0       0.86      0.80      0.83      6968\n",
            "\n",
            "    accuracy                           0.87     18213\n",
            "   macro avg       0.87      0.86      0.86     18213\n",
            "weighted avg       0.87      0.87      0.87     18213\n",
            "\n"
          ],
          "name": "stdout"
        },
        {
          "output_type": "display_data",
          "data": {
            "image/png": "[encoded data removed]",
            "text/plain": [
              "<Figure size 720x504 with 2 Axes>"
            ]
          },
          "metadata": {
            "tags": [],
            "needs_background": "light"
          }
        },
        {
          "output_type": "stream",
          "text": [
            "/usr/local/lib/python3.6/dist-packages/sklearn/neural_network/_multilayer_perceptron.py:571: ConvergenceWarning: Stochastic Optimizer: Maximum iterations (200) reached and the optimization hasn't converged yet.\n",
            "  % self.max_iter, ConvergenceWarning)\n"
          ],
          "name": "stderr"
        },
        {
          "output_type": "stream",
          "text": [
            "Voting Classifier 4: MLP, XGB\n",
            "\n",
            "Test Stats\n",
            "               precision    recall  f1-score   support\n",
            "\n",
            "         0.0       0.88      0.92      0.90     11245\n",
            "         1.0       0.87      0.80      0.83      6968\n",
            "\n",
            "    accuracy                           0.88     18213\n",
            "   macro avg       0.87      0.86      0.87     18213\n",
            "weighted avg       0.88      0.88      0.88     18213\n",
            "\n"
          ],
          "name": "stdout"
        },
        {
          "output_type": "display_data",
          "data": {
            "image/png": "[encoded data removed]",
            "text/plain": [
              "<Figure size 720x504 with 2 Axes>"
            ]
          },
          "metadata": {
            "tags": [],
            "needs_background": "light"
          }
        }
      ]
    },
    {
      "cell_type": "markdown",
      "metadata": {
        "id": "7yxTV8viM-GC"
      },
      "source": [
        "### But 2: Predire si un vol sera annulé ou non"
      ]
    },
    {
      "cell_type": "code",
      "metadata": {
        "id": "8RBu1CcKM-GC",
        "outputId": "a582c25d-045e-4205-df46-8f1e1275f4f1",
        "colab": {
          "base_uri": "https://localhost:8080/",
          "height": 221
        }
      },
      "source": [
        "#split into training and testing data sets\n",
        "y=dataset['CANCELLED']\n",
        "X = dataset.loc[:, dataset.columns != 'ARR_DEL15']\n",
        "X = X.loc[:, X.columns != 'CANCELLED']\n",
        "X = X.loc[:, X.columns != 'ARR_TIME']\n",
        "X = X.loc[:, X.columns !='DEP_TIME']\n",
        "X_train, X_test, y_train, y_test = train_test_split(X, y, test_size=0.3, random_state=42)\n",
        "list(X)"
      ],
      "execution_count": null,
      "outputs": [
        {
          "output_type": "execute_result",
          "data": {
            "text/plain": [
              "['DAY_OF_WEEK',\n",
              " 'CRS_DEP_TIME',\n",
              " 'DEP_DEL15',\n",
              " 'CRS_ARR_TIME',\n",
              " 'AIR_TIME',\n",
              " 'FLIGHTS',\n",
              " 'DISTANCE',\n",
              " 'WEATHER_DELAY',\n",
              " 'AWND',\n",
              " 'PRCP',\n",
              " 'SNOW',\n",
              " 'TMAX']"
            ]
          },
          "metadata": {
            "tags": []
          },
          "execution_count": 29
        }
      ]
    },
    {
      "cell_type": "code",
      "metadata": {
        "id": "X-VzYdPzM-GE"
      },
      "source": [
        "#Data scale\n",
        "scaler = StandardScaler()\n",
        "X_train = scaler.fit_transform(X_train)\n",
        "X_test = scaler.transform(X_test)"
      ],
      "execution_count": null,
      "outputs": []
    },
    {
      "cell_type": "markdown",
      "metadata": {
        "id": "3AwkBMB_M-GG"
      },
      "source": [
        "## Modelisation"
      ]
    },
    {
      "cell_type": "markdown",
      "metadata": {
        "id": "-fv3XLyIM-GG"
      },
      "source": [
        "### CV 10 Fold Accuracy"
      ]
    },
    {
      "cell_type": "code",
      "metadata": {
        "id": "qHceiNaQM-GG",
        "outputId": "195fbf33-01ee-4531-fe4c-ce6e9f7d8a40",
        "colab": {
          "base_uri": "https://localhost:8080/",
          "height": 204
        }
      },
      "source": [
        "for key in models.keys():\n",
        "    model(key, cv=True, print_stat=False)"
      ],
      "execution_count": null,
      "outputs": [
        {
          "output_type": "stream",
          "text": [
            "Decision Tree Classifier CV Accuracy: 0.9933403347500448\n",
            "Random Forest Classifier CV Accuracy: 0.994775844835463\n",
            "LGBM Classifier CV Accuracy: 0.9953406005565324\n",
            "XGB Classifier CV Accuracy: 0.9945170434565919\n",
            "MLP Classifier CV Accuracy: 0.9939052344496284\n",
            "K-Nearest Neighbors CV Accuracy: 0.9775032907396894\n",
            "Logistic Regression CV Accuracy: 0.9691963894618804\n",
            "Voting Classifier: MLP, LGB CV Accuracy: 0.9953406227070729\n",
            "Voting Classifier 2: KNN, XGB, MLP CV Accuracy: 0.9939522600473468\n",
            "Voting Classifier 3: XGB, MLP, RF, LR CV Accuracy: 0.9945640912048509\n",
            "Voting Classifier 4: MLP, XGB CV Accuracy: 0.9946817659518503\n"
          ],
          "name": "stdout"
        }
      ]
    },
    {
      "cell_type": "code",
      "metadata": {
        "id": "1GW1urW0M-GI",
        "outputId": "c298c2d9-f52c-472e-e1e3-c58877863fe1",
        "colab": {
          "base_uri": "https://localhost:8080/",
          "height": 1000
        }
      },
      "source": [
        "for key in models.keys():\n",
        "    model(key, inc_train=False)"
      ],
      "execution_count": null,
      "outputs": [
        {
          "output_type": "stream",
          "text": [
            "Decision Tree Classifier\n",
            "\n",
            "Test Stats\n",
            "               precision    recall  f1-score   support\n",
            "\n",
            "         0.0       1.00      1.00      1.00     17511\n",
            "         1.0       0.90      0.92      0.91       702\n",
            "\n",
            "    accuracy                           0.99     18213\n",
            "   macro avg       0.95      0.96      0.95     18213\n",
            "weighted avg       0.99      0.99      0.99     18213\n",
            "\n"
          ],
          "name": "stdout"
        },
        {
          "output_type": "display_data",
          "data": {
            "image/png": "[encoded data removed]",
            "text/plain": [
              "<Figure size 720x504 with 2 Axes>"
            ]
          },
          "metadata": {
            "tags": [],
            "needs_background": "light"
          }
        },
        {
          "output_type": "stream",
          "text": [
            "Random Forest Classifier\n",
            "\n",
            "Test Stats\n",
            "               precision    recall  f1-score   support\n",
            "\n",
            "         0.0       1.00      1.00      1.00     17511\n",
            "         1.0       0.91      0.96      0.93       702\n",
            "\n",
            "    accuracy                           0.99     18213\n",
            "   macro avg       0.95      0.98      0.96     18213\n",
            "weighted avg       0.99      0.99      0.99     18213\n",
            "\n"
          ],
          "name": "stdout"
        },
        {
          "output_type": "display_data",
          "data": {
            "image/png": "[encoded data removed]",
            "text/plain": [
              "<Figure size 720x504 with 2 Axes>"
            ]
          },
          "metadata": {
            "tags": [],
            "needs_background": "light"
          }
        },
        {
          "output_type": "stream",
          "text": [
            "LGBM Classifier\n",
            "\n",
            "Test Stats\n",
            "               precision    recall  f1-score   support\n",
            "\n",
            "         0.0       1.00      1.00      1.00     17511\n",
            "         1.0       0.90      0.97      0.93       702\n",
            "\n",
            "    accuracy                           0.99     18213\n",
            "   macro avg       0.95      0.98      0.96     18213\n",
            "weighted avg       0.99      0.99      0.99     18213\n",
            "\n"
          ],
          "name": "stdout"
        },
        {
          "output_type": "display_data",
          "data": {
            "image/png": "[encoded data removed]",
            "text/plain": [
              "<Figure size 720x504 with 2 Axes>"
            ]
          },
          "metadata": {
            "tags": [],
            "needs_background": "light"
          }
        },
        {
          "output_type": "stream",
          "text": [
            "XGB Classifier\n",
            "\n",
            "Test Stats\n",
            "               precision    recall  f1-score   support\n",
            "\n",
            "         0.0       1.00      0.99      1.00     17511\n",
            "         1.0       0.88      0.98      0.93       702\n",
            "\n",
            "    accuracy                           0.99     18213\n",
            "   macro avg       0.94      0.99      0.96     18213\n",
            "weighted avg       0.99      0.99      0.99     18213\n",
            "\n"
          ],
          "name": "stdout"
        },
        {
          "output_type": "display_data",
          "data": {
            "image/png": "[encoded data removed]",
            "text/plain": [
              "<Figure size 720x504 with 2 Axes>"
            ]
          },
          "metadata": {
            "tags": [],
            "needs_background": "light"
          }
        },
        {
          "output_type": "stream",
          "text": [
            "MLP Classifier\n",
            "\n",
            "Test Stats\n",
            "               precision    recall  f1-score   support\n",
            "\n",
            "         0.0       1.00      0.99      1.00     17511\n",
            "         1.0       0.88      0.97      0.93       702\n",
            "\n",
            "    accuracy                           0.99     18213\n",
            "   macro avg       0.94      0.98      0.96     18213\n",
            "weighted avg       0.99      0.99      0.99     18213\n",
            "\n"
          ],
          "name": "stdout"
        },
        {
          "output_type": "display_data",
          "data": {
            "image/png": "[encoded data removed]",
            "text/plain": [
              "<Figure size 720x504 with 2 Axes>"
            ]
          },
          "metadata": {
            "tags": [],
            "needs_background": "light"
          }
        },
        {
          "output_type": "stream",
          "text": [
            "K-Nearest Neighbors\n",
            "\n",
            "Test Stats\n",
            "               precision    recall  f1-score   support\n",
            "\n",
            "         0.0       0.98      1.00      0.99     17511\n",
            "         1.0       0.84      0.62      0.71       702\n",
            "\n",
            "    accuracy                           0.98     18213\n",
            "   macro avg       0.91      0.81      0.85     18213\n",
            "weighted avg       0.98      0.98      0.98     18213\n",
            "\n"
          ],
          "name": "stdout"
        },
        {
          "output_type": "display_data",
          "data": {
            "image/png": "[encoded data removed]",
            "text/plain": [
              "<Figure size 720x504 with 2 Axes>"
            ]
          },
          "metadata": {
            "tags": [],
            "needs_background": "light"
          }
        },
        {
          "output_type": "stream",
          "text": [
            "Logistic Regression\n",
            "\n",
            "Test Stats\n",
            "               precision    recall  f1-score   support\n",
            "\n",
            "         0.0       0.97      1.00      0.99     17511\n",
            "         1.0       0.96      0.27      0.42       702\n",
            "\n",
            "    accuracy                           0.97     18213\n",
            "   macro avg       0.97      0.64      0.70     18213\n",
            "weighted avg       0.97      0.97      0.96     18213\n",
            "\n"
          ],
          "name": "stdout"
        },
        {
          "output_type": "display_data",
          "data": {
            "image/png": "[encoded data removed]",
            "text/plain": [
              "<Figure size 720x504 with 2 Axes>"
            ]
          },
          "metadata": {
            "tags": [],
            "needs_background": "light"
          }
        },
        {
          "output_type": "stream",
          "text": [
            "Voting Classifier: MLP, LGB\n",
            "\n",
            "Test Stats\n",
            "               precision    recall  f1-score   support\n",
            "\n",
            "         0.0       1.00      1.00      1.00     17511\n",
            "         1.0       0.91      0.97      0.94       702\n",
            "\n",
            "    accuracy                           1.00     18213\n",
            "   macro avg       0.96      0.98      0.97     18213\n",
            "weighted avg       1.00      1.00      1.00     18213\n",
            "\n"
          ],
          "name": "stdout"
        },
        {
          "output_type": "display_data",
          "data": {
            "image/png": "[encoded data removed]",
            "text/plain": [
              "<Figure size 720x504 with 2 Axes>"
            ]
          },
          "metadata": {
            "tags": [],
            "needs_background": "light"
          }
        },
        {
          "output_type": "stream",
          "text": [
            "Voting Classifier 2: KNN, XGB, MLP\n",
            "\n",
            "Test Stats\n",
            "               precision    recall  f1-score   support\n",
            "\n",
            "         0.0       1.00      1.00      1.00     17511\n",
            "         1.0       0.93      0.90      0.91       702\n",
            "\n",
            "    accuracy                           0.99     18213\n",
            "   macro avg       0.96      0.95      0.96     18213\n",
            "weighted avg       0.99      0.99      0.99     18213\n",
            "\n"
          ],
          "name": "stdout"
        },
        {
          "output_type": "display_data",
          "data": {
            "image/png": "[encoded data removed]",
            "text/plain": [
              "<Figure size 720x504 with 2 Axes>"
            ]
          },
          "metadata": {
            "tags": [],
            "needs_background": "light"
          }
        },
        {
          "output_type": "stream",
          "text": [
            "Voting Classifier 3: XGB, MLP, RF, LR\n",
            "\n",
            "Test Stats\n",
            "               precision    recall  f1-score   support\n",
            "\n",
            "         0.0       1.00      1.00      1.00     17511\n",
            "         1.0       0.93      0.92      0.93       702\n",
            "\n",
            "    accuracy                           0.99     18213\n",
            "   macro avg       0.97      0.96      0.96     18213\n",
            "weighted avg       0.99      0.99      0.99     18213\n",
            "\n"
          ],
          "name": "stdout"
        },
        {
          "output_type": "display_data",
          "data": {
            "image/png": "[encoded data removed]",
            "text/plain": [
              "<Figure size 720x504 with 2 Axes>"
            ]
          },
          "metadata": {
            "tags": [],
            "needs_background": "light"
          }
        },
        {
          "output_type": "stream",
          "text": [
            "Voting Classifier 4: MLP, XGB\n",
            "\n",
            "Test Stats\n",
            "               precision    recall  f1-score   support\n",
            "\n",
            "         0.0       1.00      1.00      1.00     17511\n",
            "         1.0       0.89      0.97      0.93       702\n",
            "\n",
            "    accuracy                           0.99     18213\n",
            "   macro avg       0.95      0.98      0.96     18213\n",
            "weighted avg       0.99      0.99      0.99     18213\n",
            "\n"
          ],
          "name": "stdout"
        },
        {
          "output_type": "display_data",
          "data": {
            "image/png": "[encoded data removed]",
            "text/plain": [
              "<Figure size 720x504 with 2 Axes>"
            ]
          },
          "metadata": {
            "tags": [],
            "needs_background": "light"
          }
        }
      ]
    },
    {
      "cell_type": "markdown",
      "metadata": {
        "id": "iKugeZNOM-GL"
      },
      "source": [
        "### But 3: Predire le temps d'arrivée reelle\n",
        "\n"
      ]
    },
    {
      "cell_type": "code",
      "metadata": {
        "id": "Vu8etJRDM-GL",
        "outputId": "871b11b8-7e98-44dd-eb1c-3d182e488b04",
        "colab": {
          "base_uri": "https://localhost:8080/",
          "height": 255
        }
      },
      "source": [
        "#split into training and testing data sets\n",
        "y=dataset['ARR_TIME']\n",
        "X = dataset.loc[:, dataset.columns != 'ARR_TIME']\n",
        "X = X.loc[:, X.columns != 'CANCELLED']\n",
        "X_train, X_test, y_train, y_test = train_test_split(X, y, test_size=0.3, random_state=42)\n",
        "list(X)"
      ],
      "execution_count": null,
      "outputs": [
        {
          "output_type": "execute_result",
          "data": {
            "text/plain": [
              "['DAY_OF_WEEK',\n",
              " 'CRS_DEP_TIME',\n",
              " 'DEP_TIME',\n",
              " 'DEP_DEL15',\n",
              " 'CRS_ARR_TIME',\n",
              " 'ARR_DEL15',\n",
              " 'AIR_TIME',\n",
              " 'FLIGHTS',\n",
              " 'DISTANCE',\n",
              " 'WEATHER_DELAY',\n",
              " 'AWND',\n",
              " 'PRCP',\n",
              " 'SNOW',\n",
              " 'TMAX']"
            ]
          },
          "metadata": {
            "tags": []
          },
          "execution_count": 37
        }
      ]
    },
    {
      "cell_type": "code",
      "metadata": {
        "id": "fvn7CSfFM-GN"
      },
      "source": [
        "model = LinearRegression()\n",
        "model.fit(X_train, y_train)\n",
        "r_sq = model.score(X_test, y_test)"
      ],
      "execution_count": null,
      "outputs": []
    },
    {
      "cell_type": "code",
      "metadata": {
        "id": "y9S5fzjpM-GP",
        "outputId": "38514f1b-b0ae-494e-fd76-46ec916896be",
        "colab": {
          "base_uri": "https://localhost:8080/",
          "height": 34
        }
      },
      "source": [
        "r_sq"
      ],
      "execution_count": null,
      "outputs": [
        {
          "output_type": "execute_result",
          "data": {
            "text/plain": [
              "0.6036473627146512"
            ]
          },
          "metadata": {
            "tags": []
          },
          "execution_count": 39
        }
      ]
    },
    {
      "cell_type": "markdown",
      "metadata": {
        "id": "ptLRINymrU2D"
      },
      "source": [
        "###But 4 : Predire la date réelle de depart \n",
        "\n",
        "\n"
      ]
    },
    {
      "cell_type": "code",
      "metadata": {
        "id": "8rY85YBRsPCb",
        "outputId": "b4b7343f-59b9-41bf-bf56-3de1169d08cb",
        "colab": {
          "base_uri": "https://localhost:8080/",
          "height": 187
        }
      },
      "source": [
        "y=dataset['DEP_TIME']\n",
        "X = dataset.loc[:, dataset.columns != 'ARR_DEL15']\n",
        "X = X.loc[:, X.columns != 'CANCELLED']\n",
        "X = X.loc[:, X.columns != 'DEP_TIME']\n",
        "X = X.loc[:, X.columns != 'ARR_TIME']\n",
        "X = X.loc[:, X.columns != 'CRS_ARR_TIME']\n",
        "X = X.loc[:, X.columns != 'DISTANCE']\n",
        "X_train, X_test, y_train, y_test = train_test_split(X, y, test_size=0.3, random_state=42)\n",
        "list(X)"
      ],
      "execution_count": null,
      "outputs": [
        {
          "output_type": "execute_result",
          "data": {
            "text/plain": [
              "['DAY_OF_WEEK',\n",
              " 'CRS_DEP_TIME',\n",
              " 'DEP_DEL15',\n",
              " 'AIR_TIME',\n",
              " 'FLIGHTS',\n",
              " 'WEATHER_DELAY',\n",
              " 'AWND',\n",
              " 'PRCP',\n",
              " 'SNOW',\n",
              " 'TMAX']"
            ]
          },
          "metadata": {
            "tags": []
          },
          "execution_count": 41
        }
      ]
    },
    {
      "cell_type": "code",
      "metadata": {
        "id": "XyTBVmGutTms"
      },
      "source": [
        "model = LinearRegression()\n",
        "model.fit(X_train, y_train)\n",
        "r_sq = model.score(X_test, y_test)"
      ],
      "execution_count": null,
      "outputs": []
    },
    {
      "cell_type": "code",
      "metadata": {
        "id": "e_m8d9OOtbXD",
        "outputId": "177d01b4-6370-4d9d-faae-111478a8e9a7",
        "colab": {
          "base_uri": "https://localhost:8080/",
          "height": 34
        }
      },
      "source": [
        "r_sq"
      ],
      "execution_count": null,
      "outputs": [
        {
          "output_type": "execute_result",
          "data": {
            "text/plain": [
              "0.9055866051033682"
            ]
          },
          "metadata": {
            "tags": []
          },
          "execution_count": 43
        }
      ]
    },
    {
      "cell_type": "markdown",
      "metadata": {
        "id": "Opv12hVfIGRO"
      },
      "source": [
        ""
      ]
    }
  ]
}