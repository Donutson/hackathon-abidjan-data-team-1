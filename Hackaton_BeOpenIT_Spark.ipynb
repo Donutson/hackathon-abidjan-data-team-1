{
 "cells": [
  {
   "cell_type": "code",
   "execution_count": 1,
   "metadata": {},
   "outputs": [
    {
     "name": "stdout",
     "output_type": "stream",
     "text": [
      "All ok\n"
     ]
    }
   ],
   "source": [
    "# Import findspark \n",
    "import findspark\n",
    "\n",
    "# Initialize and provide path\n",
    "findspark.init(\"C:\\hadoop\\spark-3.0.1-bin-hadoop3.2\")\n",
    "\n",
    "# Import SparkSession\n",
    "from pyspark.sql import SparkSession\n",
    "\n",
    "# Build the SparkSession\n",
    "spark = SparkSession.builder \\\n",
    "   .master(\"local\") \\\n",
    "   .appName(\"hackathon-beopenit-bigdata\") \\\n",
    "   .config(\"spark.executor.memory\", \"1gb\") \\\n",
    "   .getOrCreate()\n",
    "   \n",
    "# getting the context\n",
    "sc = spark.sparkContext\n",
    "print(\"All ok\")"
   ]
  },
  {
   "cell_type": "code",
   "execution_count": 2,
   "metadata": {},
   "outputs": [
    {
     "name": "stdout",
     "output_type": "stream",
     "text": [
      "+----------+----+-------+-----+------------+-----------+--------+-----------------+-----------------+------+----------------+----------------+---------------+----------+---------------+-------------------+-------------------+----+---------------+--------------+-------------+--------+------------+--------+---------+---------+---------------+------------+--------+-------+------------+--------+---------+---------+---------------+------------+---------+--------+----------------+-------------------+--------+-------+--------+--------------+-------------+-------------+---------+--------------+-------------------+----+-----------+--------------------+--------+---------+---------+-----+----+----+----+----+----+\n",
      "|      DATE|YEAR|QUARTER|MONTH|DAY_OF_MONTH|DAY_OF_WEEK|TAIL_NUM|OP_CARRIER_FL_NUM|ORIGIN_AIRPORT_ID|ORIGIN|ORIGIN_CITY_NAME|ORIGIN_STATE_ABR|ORIGIN_STATE_NM|ORIGIN_WAC|DEST_AIRPORT_ID|DEST_AIRPORT_SEQ_ID|DEST_CITY_MARKET_ID|DEST| DEST_CITY_NAME|DEST_STATE_ABR|DEST_STATE_NM|DEST_WAC|CRS_DEP_TIME|DEP_TIME|DEP_DELAY|DEP_DEL15|DEP_DELAY_GROUP|DEP_TIME_BLK|TAXI_OUT|TAXI_IN|CRS_ARR_TIME|ARR_TIME|ARR_DELAY|ARR_DEL15|ARR_DELAY_GROUP|ARR_TIME_BLK|CANCELLED|DIVERTED|CRS_ELAPSED_TIME|ACTUAL_ELAPSED_TIME|AIR_TIME|FLIGHTS|DISTANCE|DISTANCE_GROUP|CARRIER_DELAY|WEATHER_DELAY|NAS_DELAY|SECURITY_DELAY|LATE_AIRCRAFT_DELAY|_c49|    STATION|                NAME|LATITUDE|LONGITUDE|ELEVATION| AWND|PRCP|SNOW|TAVG|TMAX|TMIN|\n",
      "+----------+----+-------+-----+------------+-----------+--------+-----------------+-----------------+------+----------------+----------------+---------------+----------+---------------+-------------------+-------------------+----+---------------+--------------+-------------+--------+------------+--------+---------+---------+---------------+------------+--------+-------+------------+--------+---------+---------+---------------+------------+---------+--------+----------------+-------------------+--------+-------+--------+--------------+-------------+-------------+---------+--------------+-------------------+----+-----------+--------------------+--------+---------+---------+-----+----+----+----+----+----+\n",
      "|2013-12-19|2013|      4|   12|          19|          4|  N8921B|             3899|            13930|   ORD|     Chicago, IL|              IL|       Illinois|        41|          11193|            1119302|              33105| CVG| Cincinnati, OH|            KY|     Kentucky|      52|        1700|    1658|    -2.00|     0.00|             -1|   1700-1759|   25.00|   3.00|        1914|    1909|    -5.00|     0.00|             -1|   1900-1959|     0.00|    0.00|           74.00|              71.00|   43.00|   1.00|  265.00|             2|         null|         null|     null|          null|               null|null|USW00094846|CHICAGO OHARE INT...|41.96019|-87.93162|    201.8| 6.93|0.06| 0.0|  35|  39|  33|\n",
      "|2013-12-20|2013|      4|   12|          20|          5|  N8533D|             3899|            13930|   ORD|     Chicago, IL|              IL|       Illinois|        41|          11193|            1119302|              33105| CVG| Cincinnati, OH|            KY|     Kentucky|      52|        1700|    1705|     5.00|     0.00|              0|   1700-1759|   25.00|   5.00|        1914|    1919|     5.00|     0.00|              0|   1900-1959|     0.00|    0.00|           74.00|              74.00|   44.00|   1.00|  265.00|             2|         null|         null|     null|          null|               null|null|USW00094846|CHICAGO OHARE INT...|41.96019|-87.93162|    201.8| 9.40|0.31| 0.0|  35|  36|  33|\n",
      "|2013-12-27|2013|      4|   12|          27|          5|  N8855A|             3899|            13930|   ORD|     Chicago, IL|              IL|       Illinois|        41|          11193|            1119302|              33105| CVG| Cincinnati, OH|            KY|     Kentucky|      52|        1700|    1656|    -4.00|     0.00|             -1|   1700-1759|   25.00|   4.00|        1914|    1905|    -9.00|     0.00|             -1|   1900-1959|     0.00|    0.00|           74.00|              69.00|   40.00|   1.00|  265.00|             2|         null|         null|     null|          null|               null|null|USW00094846|CHICAGO OHARE INT...|41.96019|-87.93162|    201.8| 9.62|0.00| 0.0|  33|  41|  21|\n",
      "|2013-12-22|2013|      4|   12|          22|          7|  N931XJ|             3901|            13930|   ORD|     Chicago, IL|              IL|       Illinois|        41|          12478|            1247802|              31703| JFK|   New York, NY|            NY|     New York|      22|        1155|    1153|    -2.00|     0.00|             -1|   1100-1159|   52.00|   9.00|        1510|    1550|    40.00|     1.00|              2|   1500-1559|     0.00|    0.00|          135.00|             177.00|  116.00|   1.00|  740.00|             3|         0.00|         0.00|    40.00|          0.00|               0.00|null|USW00094846|CHICAGO OHARE INT...|41.96019|-87.93162|    201.8|11.18|0.20| 0.0|  33|  34|  24|\n",
      "|2013-12-29|2013|      4|   12|          29|          7|  N601LR|             3901|            13930|   ORD|     Chicago, IL|              IL|       Illinois|        41|          12478|            1247802|              31703| JFK|   New York, NY|            NY|     New York|      22|        1150|    1225|    35.00|     1.00|              2|   1100-1159|   55.00|   5.00|        1505|    1605|    60.00|     1.00|              4|   1500-1559|     0.00|    0.00|          135.00|             160.00|  100.00|   1.00|  740.00|             3|         0.00|        35.00|    25.00|          0.00|               0.00|null|USW00094846|CHICAGO OHARE INT...|41.96019|-87.93162|    201.8|11.63|0.01| 0.0|  35|  40|  11|\n",
      "|2013-12-21|2013|      4|   12|          21|          6|  N922XJ|             4041|            13930|   ORD|     Chicago, IL|              IL|       Illinois|        41|          13244|            1324402|              33244| MEM|    Memphis, TN|            TN|    Tennessee|      54|        0730|    0918|   108.00|     1.00|              7|   0700-0759|   50.00|   4.00|        0920|    1149|   149.00|     1.00|              9|   0900-0959|     0.00|    0.00|          110.00|             151.00|   97.00|   1.00|  491.00|             2|       108.00|         0.00|    41.00|          0.00|               0.00|null|USW00094846|CHICAGO OHARE INT...|41.96019|-87.93162|    201.8| 8.50|0.24| 0.0|  32|  35|  30|\n",
      "|2013-12-28|2013|      4|   12|          28|          6|  N916XJ|             4041|            13930|   ORD|     Chicago, IL|              IL|       Illinois|        41|          13244|            1324402|              33244| MEM|    Memphis, TN|            TN|    Tennessee|      54|        0730|    0722|    -8.00|     0.00|             -1|   0700-0759|   37.00|   4.00|        0920|    0927|     7.00|     0.00|              0|   0900-0959|     0.00|    0.00|          110.00|             125.00|   84.00|   1.00|  491.00|             2|         null|         null|     null|          null|               null|null|USW00094846|CHICAGO OHARE INT...|41.96019|-87.93162|    201.8|12.75|0.00| 0.0|  40|  50|  33|\n",
      "|2013-12-01|2013|      4|   12|           1|          7|  N840AY|             4052|            13232|   MDW|     Chicago, IL|              IL|       Illinois|        41|          11433|            1143302|              31295| DTW|    Detroit, MI|            MI|     Michigan|      43|        1242|    1236|    -6.00|     0.00|             -1|   1200-1259|   13.00|   7.00|        1456|    1445|   -11.00|     0.00|             -1|   1400-1459|     0.00|    0.00|           74.00|              69.00|   49.00|   1.00|  228.00|             1|         null|         null|     null|          null|               null|null|USW00094846|CHICAGO OHARE INT...|41.96019|-87.93162|    201.8| 5.59|0.00| 0.0|  37|  42|  29|\n",
      "|2013-12-02|2013|      4|   12|           2|          1|  N8492C|             4052|            13232|   MDW|     Chicago, IL|              IL|       Illinois|        41|          11433|            1143302|              31295| DTW|    Detroit, MI|            MI|     Michigan|      43|        1242|    1241|    -1.00|     0.00|             -1|   1200-1259|   17.00|   3.00|        1456|    1449|    -7.00|     0.00|             -1|   1400-1459|     0.00|    0.00|           74.00|              68.00|   48.00|   1.00|  228.00|             1|         null|         null|     null|          null|               null|null|USW00094846|CHICAGO OHARE INT...|41.96019|-87.93162|    201.8| 7.38|0.07| 0.0|  36|  44|  29|\n",
      "|2013-12-19|2013|      4|   12|          19|          4|  N8458A|             4052|            13232|   MDW|     Chicago, IL|              IL|       Illinois|        41|          11433|            1143302|              31295| DTW|    Detroit, MI|            MI|     Michigan|      43|        1215|    1208|    -7.00|     0.00|             -1|   1200-1259|   12.00|  11.00|        1428|    1410|   -18.00|     0.00|             -2|   1400-1459|     0.00|    0.00|           73.00|              62.00|   39.00|   1.00|  228.00|             1|         null|         null|     null|          null|               null|null|USW00094846|CHICAGO OHARE INT...|41.96019|-87.93162|    201.8| 6.93|0.06| 0.0|  35|  39|  33|\n",
      "|2013-12-20|2013|      4|   12|          20|          5|  N8972E|             4052|            13232|   MDW|     Chicago, IL|              IL|       Illinois|        41|          11433|            1143302|              31295| DTW|    Detroit, MI|            MI|     Michigan|      43|        1215|    1209|    -6.00|     0.00|             -1|   1200-1259|   16.00|  10.00|        1428|    1413|   -15.00|     0.00|             -1|   1400-1459|     0.00|    0.00|           73.00|              64.00|   38.00|   1.00|  228.00|             1|         null|         null|     null|          null|               null|null|USW00094846|CHICAGO OHARE INT...|41.96019|-87.93162|    201.8| 9.40|0.31| 0.0|  35|  36|  33|\n",
      "|2013-12-21|2013|      4|   12|          21|          6|  N8718E|             4052|            13232|   MDW|     Chicago, IL|              IL|       Illinois|        41|          11433|            1143302|              31295| DTW|    Detroit, MI|            MI|     Michigan|      43|        1130|    1126|    -4.00|     0.00|             -1|   1100-1159|   13.00|   6.00|        1340|    1322|   -18.00|     0.00|             -2|   1300-1359|     0.00|    0.00|           70.00|              56.00|   37.00|   1.00|  228.00|             1|         null|         null|     null|          null|               null|null|USW00094846|CHICAGO OHARE INT...|41.96019|-87.93162|    201.8| 8.50|0.24| 0.0|  32|  35|  30|\n",
      "|2013-12-22|2013|      4|   12|          22|          7|  N8943A|             4052|            13232|   MDW|     Chicago, IL|              IL|       Illinois|        41|          11433|            1143302|              31295| DTW|    Detroit, MI|            MI|     Michigan|      43|        1215|    1209|    -6.00|     0.00|             -1|   1200-1259|    8.00|  14.00|        1428|    1413|   -15.00|     0.00|             -1|   1400-1459|     0.00|    0.00|           73.00|              64.00|   42.00|   1.00|  228.00|             1|         null|         null|     null|          null|               null|null|USW00094846|CHICAGO OHARE INT...|41.96019|-87.93162|    201.8|11.18|0.20| 0.0|  33|  34|  24|\n",
      "|2013-12-26|2013|      4|   12|          26|          4|  N8758D|             4052|            13232|   MDW|     Chicago, IL|              IL|       Illinois|        41|          11433|            1143302|              31295| DTW|    Detroit, MI|            MI|     Michigan|      43|        1215|    1210|    -5.00|     0.00|             -1|   1200-1259|   10.00|  10.00|        1428|    1410|   -18.00|     0.00|             -2|   1400-1459|     0.00|    0.00|           73.00|              60.00|   40.00|   1.00|  228.00|             1|         null|         null|     null|          null|               null|null|USW00094846|CHICAGO OHARE INT...|41.96019|-87.93162|    201.8| 9.84|0.00| 0.0|  23|  34|  14|\n",
      "|2013-12-27|2013|      4|   12|          27|          5|  N8800G|             4052|            13232|   MDW|     Chicago, IL|              IL|       Illinois|        41|          11433|            1143302|              31295| DTW|    Detroit, MI|            MI|     Michigan|      43|        1215|    1211|    -4.00|     0.00|             -1|   1200-1259|   11.00|  13.00|        1428|    1423|    -5.00|     0.00|             -1|   1400-1459|     0.00|    0.00|           73.00|              72.00|   48.00|   1.00|  228.00|             1|         null|         null|     null|          null|               null|null|USW00094846|CHICAGO OHARE INT...|41.96019|-87.93162|    201.8| 9.62|0.00| 0.0|  33|  41|  21|\n",
      "|2013-12-28|2013|      4|   12|          28|          6|  N8533D|             4052|            13232|   MDW|     Chicago, IL|              IL|       Illinois|        41|          11433|            1143302|              31295| DTW|    Detroit, MI|            MI|     Michigan|      43|        1215|    1205|   -10.00|     0.00|             -1|   1200-1259|   18.00|  12.00|        1427|    1417|   -10.00|     0.00|             -1|   1400-1459|     0.00|    0.00|           72.00|              72.00|   42.00|   1.00|  228.00|             1|         null|         null|     null|          null|               null|null|USW00094846|CHICAGO OHARE INT...|41.96019|-87.93162|    201.8|12.75|0.00| 0.0|  40|  50|  33|\n",
      "|2013-12-29|2013|      4|   12|          29|          7|  N8409N|             4052|            13232|   MDW|     Chicago, IL|              IL|       Illinois|        41|          11433|            1143302|              31295| DTW|    Detroit, MI|            MI|     Michigan|      43|        1215|    1209|    -6.00|     0.00|             -1|   1200-1259|   64.00|   6.00|        1428|    1459|    31.00|     1.00|              2|   1400-1459|     0.00|    0.00|           73.00|             110.00|   40.00|   1.00|  228.00|             1|         0.00|         0.00|    31.00|          0.00|               0.00|null|USW00094846|CHICAGO OHARE INT...|41.96019|-87.93162|    201.8|11.63|0.01| 0.0|  35|  40|  11|\n",
      "|2013-12-07|2013|      4|   12|           7|          6|  N8495B|             3974|            13232|   MDW|     Chicago, IL|              IL|       Illinois|        41|          13487|            1348702|              31650| MSP|Minneapolis, MN|            MN|    Minnesota|      63|        0915|    0918|     3.00|     0.00|              0|   0900-0959|   12.00|  13.00|        1044|    1051|     7.00|     0.00|              0|   1000-1059|     0.00|    0.00|           89.00|              93.00|   68.00|   1.00|  349.00|             2|         null|         null|     null|          null|               null|null|USW00094846|CHICAGO OHARE INT...|41.96019|-87.93162|    201.8| 6.93|0.00| 0.0|  14|  21|   8|\n",
      "|2013-12-14|2013|      4|   12|          14|          6|  N8390A|             3974|            13232|   MDW|     Chicago, IL|              IL|       Illinois|        41|          13487|            1348702|              31650| MSP|Minneapolis, MN|            MN|    Minnesota|      63|        0915|    0953|    38.00|     1.00|              2|   0900-0959|   50.00|   8.00|        1044|    1152|    68.00|     1.00|              4|   1000-1059|     0.00|    0.00|           89.00|             119.00|   61.00|   1.00|  349.00|             2|         0.00|        27.00|    30.00|          0.00|              11.00|null|USW00094846|CHICAGO OHARE INT...|41.96019|-87.93162|    201.8|10.96|0.23| 4.0|  30|  31|  22|\n",
      "|2013-12-01|2013|      4|   12|           1|          7|  N835AY|             4233|            13232|   MDW|     Chicago, IL|              IL|       Illinois|        41|          11433|            1143302|              31295| DTW|    Detroit, MI|            MI|     Michigan|      43|        0645|    0639|    -6.00|     0.00|             -1|   0600-0659|   11.00|   8.00|        0905|    0837|   -28.00|     0.00|             -2|   0900-0959|     0.00|    0.00|           80.00|              58.00|   39.00|   1.00|  228.00|             1|         null|         null|     null|          null|               null|null|USW00094846|CHICAGO OHARE INT...|41.96019|-87.93162|    201.8| 5.59|0.00| 0.0|  37|  42|  29|\n",
      "+----------+----+-------+-----+------------+-----------+--------+-----------------+-----------------+------+----------------+----------------+---------------+----------+---------------+-------------------+-------------------+----+---------------+--------------+-------------+--------+------------+--------+---------+---------+---------------+------------+--------+-------+------------+--------+---------+---------+---------------+------------+---------+--------+----------------+-------------------+--------+-------+--------+--------------+-------------+-------------+---------+--------------+-------------------+----+-----------+--------------------+--------+---------+---------+-----+----+----+----+----+----+\n",
      "only showing top 20 rows\n",
      "\n"
     ]
    }
   ],
   "source": [
    "# loading data\n",
    "climate = spark.read.csv(\"climate.csv\", header=True)\n",
    "airport = spark.read.csv(\"AIRPORT_ONTIME_REPORTING.csv\", header=True)\n",
    "\n",
    "# Coming from Chicago or going to Chicago\n",
    "airport_chicago = airport.filter(airport.ORIGIN_CITY_NAME == \"Chicago, IL\")\\\n",
    "                    .union(airport.filter(airport.DEST_CITY_NAME == \"Chicago, IL\"))\n",
    "airport_chicago = airport_chicago.withColumnRenamed(\"FL_DATE\", \"DATE\")\n",
    "\n",
    "# dataset creation\n",
    "dataset = airport_chicago.join(climate, on=\"DATE\", how=\"inner\")\n",
    "\n",
    "# looking at dataset\n",
    "dataset.show()"
   ]
  },
  {
   "cell_type": "code",
   "execution_count": 3,
   "metadata": {
    "scrolled": true
   },
   "outputs": [
    {
     "data": {
      "text/plain": [
       "['DATE',\n",
       " 'YEAR',\n",
       " 'QUARTER',\n",
       " 'MONTH',\n",
       " 'DAY_OF_MONTH',\n",
       " 'DAY_OF_WEEK',\n",
       " 'TAIL_NUM',\n",
       " 'OP_CARRIER_FL_NUM',\n",
       " 'ORIGIN_AIRPORT_ID',\n",
       " 'ORIGIN',\n",
       " 'ORIGIN_CITY_NAME',\n",
       " 'ORIGIN_STATE_ABR',\n",
       " 'ORIGIN_STATE_NM',\n",
       " 'ORIGIN_WAC',\n",
       " 'DEST_AIRPORT_ID',\n",
       " 'DEST_AIRPORT_SEQ_ID',\n",
       " 'DEST_CITY_MARKET_ID',\n",
       " 'DEST',\n",
       " 'DEST_CITY_NAME',\n",
       " 'DEST_STATE_ABR',\n",
       " 'DEST_STATE_NM',\n",
       " 'DEST_WAC',\n",
       " 'CRS_DEP_TIME',\n",
       " 'DEP_TIME',\n",
       " 'DEP_DELAY',\n",
       " 'DEP_DEL15',\n",
       " 'DEP_DELAY_GROUP',\n",
       " 'DEP_TIME_BLK',\n",
       " 'TAXI_OUT',\n",
       " 'TAXI_IN',\n",
       " 'CRS_ARR_TIME',\n",
       " 'ARR_TIME',\n",
       " 'ARR_DELAY',\n",
       " 'ARR_DEL15',\n",
       " 'ARR_DELAY_GROUP',\n",
       " 'ARR_TIME_BLK',\n",
       " 'CANCELLED',\n",
       " 'DIVERTED',\n",
       " 'CRS_ELAPSED_TIME',\n",
       " 'ACTUAL_ELAPSED_TIME',\n",
       " 'AIR_TIME',\n",
       " 'FLIGHTS',\n",
       " 'DISTANCE',\n",
       " 'DISTANCE_GROUP',\n",
       " 'CARRIER_DELAY',\n",
       " 'WEATHER_DELAY',\n",
       " 'NAS_DELAY',\n",
       " 'SECURITY_DELAY',\n",
       " 'LATE_AIRCRAFT_DELAY',\n",
       " '_c49',\n",
       " 'STATION',\n",
       " 'NAME',\n",
       " 'LATITUDE',\n",
       " 'LONGITUDE',\n",
       " 'ELEVATION',\n",
       " 'AWND',\n",
       " 'PRCP',\n",
       " 'SNOW',\n",
       " 'TAVG',\n",
       " 'TMAX',\n",
       " 'TMIN']"
      ]
     },
     "execution_count": 3,
     "metadata": {},
     "output_type": "execute_result"
    }
   ],
   "source": [
    "# dataset.count()\n",
    "dataset.columns"
   ]
  },
  {
   "cell_type": "code",
   "execution_count": 4,
   "metadata": {
    "scrolled": true
   },
   "outputs": [
    {
     "data": {
      "text/plain": [
       "['DAY_OF_WEEK',\n",
       " 'CRS_DEP_TIME',\n",
       " 'DEP_TIME',\n",
       " 'DEP_DEL15',\n",
       " 'CRS_ARR_TIME',\n",
       " 'ARR_TIME',\n",
       " 'ARR_DEL15',\n",
       " 'CANCELLED',\n",
       " 'AIR_TIME',\n",
       " 'FLIGHTS',\n",
       " 'DISTANCE',\n",
       " 'WEATHER_DELAY',\n",
       " 'AWND',\n",
       " 'PRCP',\n",
       " 'SNOW',\n",
       " 'TMAX']"
      ]
     },
     "execution_count": 4,
     "metadata": {},
     "output_type": "execute_result"
    }
   ],
   "source": [
    "dataset = dataset.select('DAY_OF_WEEK',\n",
    " 'CRS_DEP_TIME',\n",
    " 'DEP_TIME',\n",
    " 'DEP_DEL15',\n",
    " 'CRS_ARR_TIME',\n",
    " 'ARR_TIME',\n",
    " 'ARR_DEL15',\n",
    " 'CANCELLED',\n",
    " 'AIR_TIME',\n",
    " 'FLIGHTS',\n",
    " 'DISTANCE',\n",
    " 'WEATHER_DELAY',\n",
    " 'AWND',\n",
    " 'PRCP',\n",
    " 'SNOW',\n",
    " 'TMAX')\n",
    "# dataset.count()\n",
    "dataset.columns"
   ]
  },
  {
   "cell_type": "code",
   "execution_count": 5,
   "metadata": {
    "scrolled": true
   },
   "outputs": [
    {
     "name": "stdout",
     "output_type": "stream",
     "text": [
      "+-----------+------------+--------+---------+------------+--------+---------+---------+--------+-------+--------+-------------+-----+----+----+----+\n",
      "|DAY_OF_WEEK|CRS_DEP_TIME|DEP_TIME|DEP_DEL15|CRS_ARR_TIME|ARR_TIME|ARR_DEL15|CANCELLED|AIR_TIME|FLIGHTS|DISTANCE|WEATHER_DELAY| AWND|PRCP|SNOW|TMAX|\n",
      "+-----------+------------+--------+---------+------------+--------+---------+---------+--------+-------+--------+-------------+-----+----+----+----+\n",
      "|          4|        1700|    1658|     0.00|        1914|    1909|     0.00|     0.00|   43.00|   1.00|  265.00|         null| 6.93|0.06| 0.0|  39|\n",
      "|          5|        1700|    1705|     0.00|        1914|    1919|     0.00|     0.00|   44.00|   1.00|  265.00|         null| 9.40|0.31| 0.0|  36|\n",
      "|          5|        1700|    1656|     0.00|        1914|    1905|     0.00|     0.00|   40.00|   1.00|  265.00|         null| 9.62|0.00| 0.0|  41|\n",
      "|          7|        1155|    1153|     0.00|        1510|    1550|     1.00|     0.00|  116.00|   1.00|  740.00|         0.00|11.18|0.20| 0.0|  34|\n",
      "|          7|        1150|    1225|     1.00|        1505|    1605|     1.00|     0.00|  100.00|   1.00|  740.00|        35.00|11.63|0.01| 0.0|  40|\n",
      "|          6|        0730|    0918|     1.00|        0920|    1149|     1.00|     0.00|   97.00|   1.00|  491.00|         0.00| 8.50|0.24| 0.0|  35|\n",
      "|          6|        0730|    0722|     0.00|        0920|    0927|     0.00|     0.00|   84.00|   1.00|  491.00|         null|12.75|0.00| 0.0|  50|\n",
      "|          7|        1242|    1236|     0.00|        1456|    1445|     0.00|     0.00|   49.00|   1.00|  228.00|         null| 5.59|0.00| 0.0|  42|\n",
      "|          1|        1242|    1241|     0.00|        1456|    1449|     0.00|     0.00|   48.00|   1.00|  228.00|         null| 7.38|0.07| 0.0|  44|\n",
      "|          4|        1215|    1208|     0.00|        1428|    1410|     0.00|     0.00|   39.00|   1.00|  228.00|         null| 6.93|0.06| 0.0|  39|\n",
      "|          5|        1215|    1209|     0.00|        1428|    1413|     0.00|     0.00|   38.00|   1.00|  228.00|         null| 9.40|0.31| 0.0|  36|\n",
      "|          6|        1130|    1126|     0.00|        1340|    1322|     0.00|     0.00|   37.00|   1.00|  228.00|         null| 8.50|0.24| 0.0|  35|\n",
      "|          7|        1215|    1209|     0.00|        1428|    1413|     0.00|     0.00|   42.00|   1.00|  228.00|         null|11.18|0.20| 0.0|  34|\n",
      "|          4|        1215|    1210|     0.00|        1428|    1410|     0.00|     0.00|   40.00|   1.00|  228.00|         null| 9.84|0.00| 0.0|  34|\n",
      "|          5|        1215|    1211|     0.00|        1428|    1423|     0.00|     0.00|   48.00|   1.00|  228.00|         null| 9.62|0.00| 0.0|  41|\n",
      "|          6|        1215|    1205|     0.00|        1427|    1417|     0.00|     0.00|   42.00|   1.00|  228.00|         null|12.75|0.00| 0.0|  50|\n",
      "|          7|        1215|    1209|     0.00|        1428|    1459|     1.00|     0.00|   40.00|   1.00|  228.00|         0.00|11.63|0.01| 0.0|  40|\n",
      "|          6|        0915|    0918|     0.00|        1044|    1051|     0.00|     0.00|   68.00|   1.00|  349.00|         null| 6.93|0.00| 0.0|  21|\n",
      "|          6|        0915|    0953|     1.00|        1044|    1152|     1.00|     0.00|   61.00|   1.00|  349.00|        27.00|10.96|0.23| 4.0|  31|\n",
      "|          7|        0645|    0639|     0.00|        0905|    0837|     0.00|     0.00|   39.00|   1.00|  228.00|         null| 5.59|0.00| 0.0|  42|\n",
      "+-----------+------------+--------+---------+------------+--------+---------+---------+--------+-------+--------+-------------+-----+----+----+----+\n",
      "only showing top 20 rows\n",
      "\n"
     ]
    }
   ],
   "source": [
    "dataset.show()"
   ]
  },
  {
   "cell_type": "code",
   "execution_count": 6,
   "metadata": {},
   "outputs": [
    {
     "data": {
      "text/plain": [
       "[('DAY_OF_WEEK', 'string'),\n",
       " ('CRS_DEP_TIME', 'string'),\n",
       " ('DEP_TIME', 'string'),\n",
       " ('DEP_DEL15', 'string'),\n",
       " ('CRS_ARR_TIME', 'string'),\n",
       " ('ARR_TIME', 'string'),\n",
       " ('ARR_DEL15', 'string'),\n",
       " ('CANCELLED', 'string'),\n",
       " ('AIR_TIME', 'string'),\n",
       " ('FLIGHTS', 'string'),\n",
       " ('DISTANCE', 'string'),\n",
       " ('WEATHER_DELAY', 'string'),\n",
       " ('AWND', 'string'),\n",
       " ('PRCP', 'string'),\n",
       " ('SNOW', 'string'),\n",
       " ('TMAX', 'string')]"
      ]
     },
     "execution_count": 6,
     "metadata": {},
     "output_type": "execute_result"
    }
   ],
   "source": [
    "dataset.dtypes"
   ]
  },
  {
   "cell_type": "code",
   "execution_count": 7,
   "metadata": {
    "scrolled": true
   },
   "outputs": [
    {
     "data": {
      "text/plain": [
       "[('DAY_OF_WEEK', 'float'),\n",
       " ('CRS_DEP_TIME', 'float'),\n",
       " ('DEP_TIME', 'float'),\n",
       " ('DEP_DEL15', 'float'),\n",
       " ('CRS_ARR_TIME', 'float'),\n",
       " ('ARR_TIME', 'float'),\n",
       " ('ARR_DEL15', 'float'),\n",
       " ('CANCELLED', 'float'),\n",
       " ('AIR_TIME', 'float'),\n",
       " ('FLIGHTS', 'float'),\n",
       " ('DISTANCE', 'float'),\n",
       " ('WEATHER_DELAY', 'float'),\n",
       " ('AWND', 'float'),\n",
       " ('PRCP', 'float'),\n",
       " ('SNOW', 'float'),\n",
       " ('TMAX', 'float')]"
      ]
     },
     "execution_count": 7,
     "metadata": {},
     "output_type": "execute_result"
    }
   ],
   "source": [
    "# Import all from `sql.types`\n",
    "from pyspark.sql.types import *\n",
    "\n",
    "# Write a custom function to convert the data type of DataFrame columns\n",
    "def convertColumn(df, names, newType):\n",
    "  for name in names: \n",
    "     df = df.withColumn(name, df[name].cast(newType))\n",
    "  return df \n",
    "\n",
    "# Assign all column names to `columns`\n",
    "columns = dataset.columns\n",
    "\n",
    "# Conver the `df` columns to `FloatType()`\n",
    "dataset = convertColumn(dataset, columns, FloatType())\n",
    "dataset.dtypes"
   ]
  },
  {
   "cell_type": "code",
   "execution_count": 8,
   "metadata": {
    "scrolled": true
   },
   "outputs": [
    {
     "name": "stdout",
     "output_type": "stream",
     "text": [
      "+-----------+------------+--------+---------+------------+--------+---------+---------+--------+-------+--------+-------------+-----+----+----+----+\n",
      "|DAY_OF_WEEK|CRS_DEP_TIME|DEP_TIME|DEP_DEL15|CRS_ARR_TIME|ARR_TIME|ARR_DEL15|CANCELLED|AIR_TIME|FLIGHTS|DISTANCE|WEATHER_DELAY| AWND|PRCP|SNOW|TMAX|\n",
      "+-----------+------------+--------+---------+------------+--------+---------+---------+--------+-------+--------+-------------+-----+----+----+----+\n",
      "|        4.0|      1700.0|  1658.0|      0.0|      1914.0|  1909.0|      0.0|      0.0|    43.0|    1.0|   265.0|         null| 6.93|0.06| 0.0|39.0|\n",
      "|        5.0|      1700.0|  1705.0|      0.0|      1914.0|  1919.0|      0.0|      0.0|    44.0|    1.0|   265.0|         null|  9.4|0.31| 0.0|36.0|\n",
      "|        5.0|      1700.0|  1656.0|      0.0|      1914.0|  1905.0|      0.0|      0.0|    40.0|    1.0|   265.0|         null| 9.62| 0.0| 0.0|41.0|\n",
      "|        7.0|      1155.0|  1153.0|      0.0|      1510.0|  1550.0|      1.0|      0.0|   116.0|    1.0|   740.0|          0.0|11.18| 0.2| 0.0|34.0|\n",
      "|        7.0|      1150.0|  1225.0|      1.0|      1505.0|  1605.0|      1.0|      0.0|   100.0|    1.0|   740.0|         35.0|11.63|0.01| 0.0|40.0|\n",
      "|        6.0|       730.0|   918.0|      1.0|       920.0|  1149.0|      1.0|      0.0|    97.0|    1.0|   491.0|          0.0|  8.5|0.24| 0.0|35.0|\n",
      "|        6.0|       730.0|   722.0|      0.0|       920.0|   927.0|      0.0|      0.0|    84.0|    1.0|   491.0|         null|12.75| 0.0| 0.0|50.0|\n",
      "|        7.0|      1242.0|  1236.0|      0.0|      1456.0|  1445.0|      0.0|      0.0|    49.0|    1.0|   228.0|         null| 5.59| 0.0| 0.0|42.0|\n",
      "|        1.0|      1242.0|  1241.0|      0.0|      1456.0|  1449.0|      0.0|      0.0|    48.0|    1.0|   228.0|         null| 7.38|0.07| 0.0|44.0|\n",
      "|        4.0|      1215.0|  1208.0|      0.0|      1428.0|  1410.0|      0.0|      0.0|    39.0|    1.0|   228.0|         null| 6.93|0.06| 0.0|39.0|\n",
      "|        5.0|      1215.0|  1209.0|      0.0|      1428.0|  1413.0|      0.0|      0.0|    38.0|    1.0|   228.0|         null|  9.4|0.31| 0.0|36.0|\n",
      "|        6.0|      1130.0|  1126.0|      0.0|      1340.0|  1322.0|      0.0|      0.0|    37.0|    1.0|   228.0|         null|  8.5|0.24| 0.0|35.0|\n",
      "|        7.0|      1215.0|  1209.0|      0.0|      1428.0|  1413.0|      0.0|      0.0|    42.0|    1.0|   228.0|         null|11.18| 0.2| 0.0|34.0|\n",
      "|        4.0|      1215.0|  1210.0|      0.0|      1428.0|  1410.0|      0.0|      0.0|    40.0|    1.0|   228.0|         null| 9.84| 0.0| 0.0|34.0|\n",
      "|        5.0|      1215.0|  1211.0|      0.0|      1428.0|  1423.0|      0.0|      0.0|    48.0|    1.0|   228.0|         null| 9.62| 0.0| 0.0|41.0|\n",
      "|        6.0|      1215.0|  1205.0|      0.0|      1427.0|  1417.0|      0.0|      0.0|    42.0|    1.0|   228.0|         null|12.75| 0.0| 0.0|50.0|\n",
      "|        7.0|      1215.0|  1209.0|      0.0|      1428.0|  1459.0|      1.0|      0.0|    40.0|    1.0|   228.0|          0.0|11.63|0.01| 0.0|40.0|\n",
      "|        6.0|       915.0|   918.0|      0.0|      1044.0|  1051.0|      0.0|      0.0|    68.0|    1.0|   349.0|         null| 6.93| 0.0| 0.0|21.0|\n",
      "|        6.0|       915.0|   953.0|      1.0|      1044.0|  1152.0|      1.0|      0.0|    61.0|    1.0|   349.0|         27.0|10.96|0.23| 4.0|31.0|\n",
      "|        7.0|       645.0|   639.0|      0.0|       905.0|   837.0|      0.0|      0.0|    39.0|    1.0|   228.0|         null| 5.59| 0.0| 0.0|42.0|\n",
      "+-----------+------------+--------+---------+------------+--------+---------+---------+--------+-------+--------+-------------+-----+----+----+----+\n",
      "only showing top 20 rows\n",
      "\n"
     ]
    }
   ],
   "source": [
    "dataset.show()"
   ]
  },
  {
   "cell_type": "code",
   "execution_count": 9,
   "metadata": {},
   "outputs": [
    {
     "name": "stdout",
     "output_type": "stream",
     "text": [
      "+-----------+------------+--------+---------+------------+--------+---------+---------+--------+-------+--------+-------------+-----+----+----+----+\n",
      "|DAY_OF_WEEK|CRS_DEP_TIME|DEP_TIME|DEP_DEL15|CRS_ARR_TIME|ARR_TIME|ARR_DEL15|CANCELLED|AIR_TIME|FLIGHTS|DISTANCE|WEATHER_DELAY| AWND|PRCP|SNOW|TMAX|\n",
      "+-----------+------------+--------+---------+------------+--------+---------+---------+--------+-------+--------+-------------+-----+----+----+----+\n",
      "|        4.0|      1700.0|  1658.0|      0.0|      1914.0|  1909.0|      0.0|      0.0|    43.0|    1.0|   265.0|          0.0| 6.93|0.06| 0.0|39.0|\n",
      "|        5.0|      1700.0|  1705.0|      0.0|      1914.0|  1919.0|      0.0|      0.0|    44.0|    1.0|   265.0|          0.0|  9.4|0.31| 0.0|36.0|\n",
      "|        5.0|      1700.0|  1656.0|      0.0|      1914.0|  1905.0|      0.0|      0.0|    40.0|    1.0|   265.0|          0.0| 9.62| 0.0| 0.0|41.0|\n",
      "|        7.0|      1155.0|  1153.0|      0.0|      1510.0|  1550.0|      1.0|      0.0|   116.0|    1.0|   740.0|          0.0|11.18| 0.2| 0.0|34.0|\n",
      "|        7.0|      1150.0|  1225.0|      1.0|      1505.0|  1605.0|      1.0|      0.0|   100.0|    1.0|   740.0|         35.0|11.63|0.01| 0.0|40.0|\n",
      "+-----------+------------+--------+---------+------------+--------+---------+---------+--------+-------+--------+-------------+-----+----+----+----+\n",
      "only showing top 5 rows\n",
      "\n"
     ]
    }
   ],
   "source": [
    "from pyspark.ml.feature import Imputer\n",
    "# impute missing values with median\n",
    "imp = Imputer(strategy=\"median\", inputCols=dataset.columns, outputCols=dataset.columns)\n",
    "dataset = imp.fit(dataset).transform(dataset)\n",
    "dataset.show(5)"
   ]
  },
  {
   "cell_type": "markdown",
   "metadata": {},
   "source": [
    "### Goal 1: predict if a flight will delay 15 minutes or not"
   ]
  },
  {
   "cell_type": "markdown",
   "metadata": {},
   "source": [
    "# Models"
   ]
  },
  {
   "cell_type": "code",
   "execution_count": 10,
   "metadata": {},
   "outputs": [
    {
     "name": "stdout",
     "output_type": "stream",
     "text": [
      "All import are good\n"
     ]
    }
   ],
   "source": [
    "# models\n",
    "# classifiers\n",
    "from pyspark.ml.classification import LogisticRegression\n",
    "from pyspark.ml.classification import DecisionTreeClassifier\n",
    "from pyspark.ml.classification import RandomForestClassifier\n",
    "from pyspark.ml.classification import MultilayerPerceptronClassifier\n",
    "# regressors\n",
    "from pyspark.ml.regression import LinearRegression\n",
    "from pyspark.ml.regression import DecisionTreeRegressor\n",
    "from pyspark.ml.regression import GBTRegressor\n",
    "\n",
    "# preprocessing\n",
    "from pyspark.ml.feature import StandardScaler\n",
    "from pyspark.ml.feature import VectorAssembler\n",
    "\n",
    "# evaluation metrics\n",
    "from pyspark.ml.evaluation import BinaryClassificationEvaluator\n",
    "\n",
    "# validation\n",
    "from pyspark.ml.tuning import ParamGridBuilder, CrossValidator\n",
    "\n",
    "print(\"All import are good\")"
   ]
  },
  {
   "cell_type": "code",
   "execution_count": 11,
   "metadata": {},
   "outputs": [
    {
     "name": "stdout",
     "output_type": "stream",
     "text": [
      "class well define\n"
     ]
    }
   ],
   "source": [
    "class Model:\n",
    "    \"\"\"\n",
    "    model definition\n",
    "    \"\"\"\n",
    "    def __init__(self, nom, model, params):\n",
    "        self.nom = nom\n",
    "        self.me = model\n",
    "        self.params = params\n",
    "        \n",
    "print(\"class well define\")"
   ]
  },
  {
   "cell_type": "code",
   "execution_count": 12,
   "metadata": {},
   "outputs": [
    {
     "name": "stdout",
     "output_type": "stream",
     "text": [
      "function well define\n"
     ]
    }
   ],
   "source": [
    "def run_classifiers(features, target, dataset):\n",
    "    \n",
    "    # making feature and target\n",
    "    assembler = VectorAssembler(inputCols=features,outputCol=\"features\")\n",
    "    dataset=assembler.transform(dataset)\n",
    "    \n",
    "    # Standardization    \n",
    "    standardscaler = StandardScaler().setInputCol(\"features\").setOutputCol(\"Scaled_features\")\n",
    "    dataset = standardscaler.fit(dataset).transform(dataset)\n",
    "    \n",
    "    # train test split\n",
    "    train, test = dataset.randomSplit([0.8, 0.2], seed=42)\n",
    "    \n",
    "    # evaluator\n",
    "    evaluator = BinaryClassificationEvaluator(rawPredictionCol=\"rawPrediction\",labelCol=target)\n",
    "    \n",
    "    # models list\n",
    "    models = []\n",
    "\n",
    "    # classifiers\n",
    "    lr = Model(\"Logistic regression\", \n",
    "               LogisticRegression(labelCol=target, featuresCol=\"features\"),\n",
    "               None\n",
    "              )\n",
    "    lr.params = ParamGridBuilder().addGrid(lr.me.aggregationDepth,[2,5,10])\\\n",
    "                .addGrid(lr.me.elasticNetParam,[0.0, 0.5, 1.0])\\\n",
    "                .addGrid(lr.me.fitIntercept,[False, True])\\\n",
    "                .addGrid(lr.me.maxIter,[10, 100, 1000])\\\n",
    "                .addGrid(lr.me.regParam,[0.01, 0.5, 2.0])\\\n",
    "                .build()\n",
    "    models.append(lr)\n",
    "    \n",
    "    # cross validation\n",
    "    for clf in models:\n",
    "        cv = CrossValidator(estimator=clf.me, estimatorParamMaps=clf.params, evaluator=evaluator, numFolds=5)\n",
    "        # Run cross validations\n",
    "        cvModel = cv.fit(train)\n",
    "        predict_train=cvModel.transform(train)\n",
    "        predict_test=cvModel.transform(test)\n",
    "        print(\"The area under ROC for train set after CV  is {}\".format(evaluator.evaluate(predict_train)))\n",
    "        print(\"The area under ROC for test set after CV  is {}\".format(evaluator.evaluate(predict_test)))\n",
    "        \n",
    "print(\"function well define\")"
   ]
  },
  {
   "cell_type": "code",
   "execution_count": null,
   "metadata": {},
   "outputs": [],
   "source": [
    "run_classifiers(['DAY_OF_WEEK','CRS_DEP_TIME','DEP_TIME','DEP_DEL15','CRS_ARR_TIME','ARR_TIME','CANCELLED','AIR_TIME','FLIGHTS','DISTANCE','WEATHER_DELAY','AWND','PRCP','SNOW','TMAX'], 'ARR_DEL15', dataset)"
   ]
  },
  {
   "cell_type": "code",
   "execution_count": null,
   "metadata": {},
   "outputs": [],
   "source": []
  }
 ],
 "metadata": {
  "kernelspec": {
   "display_name": "Python 3",
   "language": "python",
   "name": "python3"
  },
  "language_info": {
   "codemirror_mode": {
    "name": "ipython",
    "version": 3
   },
   "file_extension": ".py",
   "mimetype": "text/x-python",
   "name": "python",
   "nbconvert_exporter": "python",
   "pygments_lexer": "ipython3",
   "version": "3.7.6"
  }
 },
 "nbformat": 4,
 "nbformat_minor": 4
}
